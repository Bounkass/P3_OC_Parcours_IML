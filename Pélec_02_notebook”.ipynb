{
 "cells": [
  {
   "cell_type": "markdown",
   "metadata": {
    "id": "9U7IMAX_hJ1C"
   },
   "source": [
    " # <font color=\"#114b98\">      <div align=\"center\">  Anticipez les besoins en consommation de bâtiments </font>    "
   ]
  },
  {
   "cell_type": "markdown",
   "metadata": {
    "id": "ssU0e61phJ1K"
   },
   "source": [
    "Le premier notebook contient le jeu de données de la consommation de l'énergie \n",
    "sous le nom \"Cleaned_energie_co2.csv\". Nous l'exportons ici (dans ce présent Notebook) afin de réaliser une \n",
    "comparaison de diverses modèles linéaires et non-linéaires. Ensuite choisier le meilleur modèle pour prédier \n",
    "les émissions de CO2 et les consommations d'énergie des bâtiments. \n"
   ]
  },
  {
   "cell_type": "markdown",
   "metadata": {
    "id": "tDaI3fm-hJ1N"
   },
   "source": [
    "## <font color=\"#ea1c60\">Sommaire</font>  \n",
    "[1. Pipelines et préparation des données](#section_1)\n",
    "\n",
    "[2. Comparaison des modèles pour les emissions du Co_2](#section_2) \n",
    "\n",
    "[2.1 Modèles de régression linéaires](#section_21) \n",
    "\n",
    "[2.2 Modèles de régression non-linéaires](#section_22)\n",
    "\n",
    "[2.3 Comparaison des résultats](#section_23)\n",
    "\n",
    "[2.4 Cross validation pour RFR et GBR](#section_24)\n",
    "\n",
    "[3. Comparaison des modèles pour l'énergie totale](#section_3)\n",
    "\n",
    "[3.1 Modèles de régression linéaires](#section_31) \n",
    "\n",
    "[3.2 Modèles de régression non-linéaires](#section_32)\n",
    "\n",
    "[3.3 Comparaison des résultats](#section_33)\n",
    "\n",
    "[3.4 Cross validation pour RFR et GBR](#section_34)\n",
    "\n",
    "[4. Feature importances](#section_4) \n",
    "\n",
    "[5. Prédictions des modèles séléctionés](#section_5)\n",
    "\n",
    "[6. Influence de l'ENERGY STAR Score](#section_6)"
   ]
  },
  {
   "cell_type": "markdown",
   "metadata": {
    "id": "oItSQxgh4Jij"
   },
   "source": [
    "## <font id=\"section_1\"> 1. Pipelines et préparation des données"
   ]
  },
  {
   "cell_type": "markdown",
   "metadata": {
    "id": "3crB7-jUhJ1T"
   },
   "source": [
    "Chargement du jeu de données:"
   ]
  },
  {
   "cell_type": "code",
   "execution_count": 4,
   "metadata": {
    "id": "TXBjFjyNKBzr"
   },
   "outputs": [],
   "source": [
    "import pandas as pd\n",
    "data_unif = pd.read_csv('Cleaned_energie_co2.csv', sep='\\t',low_memory=False)"
   ]
  },
  {
   "cell_type": "markdown",
   "metadata": {},
   "source": [
    "On vérifie si nous avons bien exporté le dataset:"
   ]
  },
  {
   "cell_type": "code",
   "execution_count": 7,
   "metadata": {},
   "outputs": [
    {
     "data": {
      "text/plain": [
       "(3284, 16)"
      ]
     },
     "execution_count": 7,
     "metadata": {},
     "output_type": "execute_result"
    }
   ],
   "source": [
    "data_unif.shape"
   ]
  },
  {
   "cell_type": "code",
   "execution_count": 6,
   "metadata": {},
   "outputs": [
    {
     "data": {
      "text/html": [
       "<div>\n",
       "<style scoped>\n",
       "    .dataframe tbody tr th:only-of-type {\n",
       "        vertical-align: middle;\n",
       "    }\n",
       "\n",
       "    .dataframe tbody tr th {\n",
       "        vertical-align: top;\n",
       "    }\n",
       "\n",
       "    .dataframe thead th {\n",
       "        text-align: right;\n",
       "    }\n",
       "</style>\n",
       "<table border=\"1\" class=\"dataframe\">\n",
       "  <thead>\n",
       "    <tr style=\"text-align: right;\">\n",
       "      <th></th>\n",
       "      <th>BuildingType</th>\n",
       "      <th>PrimaryPropertyType</th>\n",
       "      <th>Agebuilding</th>\n",
       "      <th>NumberofBuildings</th>\n",
       "      <th>NumberofFloors</th>\n",
       "      <th>PropertyGFAParking</th>\n",
       "      <th>LargestPropertyUseType</th>\n",
       "      <th>LargestPropertyUseTypeGFA</th>\n",
       "      <th>SecondLargestPropertyUseType</th>\n",
       "      <th>SecondLargestPropertyUseTypeGFA</th>\n",
       "      <th>ThirdLargestPropertyUseTypeGFA</th>\n",
       "      <th>ENERGYSTARScore</th>\n",
       "      <th>SiteEnergyUse(kBtu)</th>\n",
       "      <th>GHGEmissions(MetricTonsCO2e)</th>\n",
       "      <th>Latitude</th>\n",
       "      <th>Longitude</th>\n",
       "    </tr>\n",
       "  </thead>\n",
       "  <tbody>\n",
       "    <tr>\n",
       "      <th>0</th>\n",
       "      <td>NonResidential</td>\n",
       "      <td>Hotel</td>\n",
       "      <td>88</td>\n",
       "      <td>1.0</td>\n",
       "      <td>12.0</td>\n",
       "      <td>0</td>\n",
       "      <td>Hotel</td>\n",
       "      <td>88434.0</td>\n",
       "      <td>Hotel</td>\n",
       "      <td>0.0</td>\n",
       "      <td>0.0</td>\n",
       "      <td>65.0</td>\n",
       "      <td>6981428.0</td>\n",
       "      <td>249.43</td>\n",
       "      <td>47.612190</td>\n",
       "      <td>-122.337997</td>\n",
       "    </tr>\n",
       "    <tr>\n",
       "      <th>1</th>\n",
       "      <td>NonResidential</td>\n",
       "      <td>Hotel</td>\n",
       "      <td>19</td>\n",
       "      <td>1.0</td>\n",
       "      <td>11.0</td>\n",
       "      <td>15064</td>\n",
       "      <td>Hotel</td>\n",
       "      <td>83880.0</td>\n",
       "      <td>Parking</td>\n",
       "      <td>15064.0</td>\n",
       "      <td>4622.0</td>\n",
       "      <td>51.0</td>\n",
       "      <td>8354235.0</td>\n",
       "      <td>263.51</td>\n",
       "      <td>47.613106</td>\n",
       "      <td>-122.333358</td>\n",
       "    </tr>\n",
       "    <tr>\n",
       "      <th>2</th>\n",
       "      <td>NonResidential</td>\n",
       "      <td>Hotel</td>\n",
       "      <td>46</td>\n",
       "      <td>1.0</td>\n",
       "      <td>41.0</td>\n",
       "      <td>0</td>\n",
       "      <td>Hotel</td>\n",
       "      <td>757243.0</td>\n",
       "      <td>Parking</td>\n",
       "      <td>100000.0</td>\n",
       "      <td>0.0</td>\n",
       "      <td>18.0</td>\n",
       "      <td>73130656.0</td>\n",
       "      <td>2061.48</td>\n",
       "      <td>47.613349</td>\n",
       "      <td>-122.337699</td>\n",
       "    </tr>\n",
       "    <tr>\n",
       "      <th>3</th>\n",
       "      <td>NonResidential</td>\n",
       "      <td>Hotel</td>\n",
       "      <td>89</td>\n",
       "      <td>1.0</td>\n",
       "      <td>10.0</td>\n",
       "      <td>0</td>\n",
       "      <td>Hotel</td>\n",
       "      <td>61320.0</td>\n",
       "      <td>Hotel</td>\n",
       "      <td>0.0</td>\n",
       "      <td>0.0</td>\n",
       "      <td>1.0</td>\n",
       "      <td>28229320.0</td>\n",
       "      <td>1936.34</td>\n",
       "      <td>47.614216</td>\n",
       "      <td>-122.336609</td>\n",
       "    </tr>\n",
       "    <tr>\n",
       "      <th>4</th>\n",
       "      <td>NonResidential</td>\n",
       "      <td>Hotel</td>\n",
       "      <td>35</td>\n",
       "      <td>1.0</td>\n",
       "      <td>18.0</td>\n",
       "      <td>12460</td>\n",
       "      <td>Hotel</td>\n",
       "      <td>123445.0</td>\n",
       "      <td>Parking</td>\n",
       "      <td>68009.0</td>\n",
       "      <td>0.0</td>\n",
       "      <td>67.0</td>\n",
       "      <td>14829099.0</td>\n",
       "      <td>507.70</td>\n",
       "      <td>47.613754</td>\n",
       "      <td>-122.340924</td>\n",
       "    </tr>\n",
       "  </tbody>\n",
       "</table>\n",
       "</div>"
      ],
      "text/plain": [
       "     BuildingType PrimaryPropertyType  Agebuilding  NumberofBuildings  \\\n",
       "0  NonResidential               Hotel           88                1.0   \n",
       "1  NonResidential               Hotel           19                1.0   \n",
       "2  NonResidential               Hotel           46                1.0   \n",
       "3  NonResidential               Hotel           89                1.0   \n",
       "4  NonResidential               Hotel           35                1.0   \n",
       "\n",
       "   NumberofFloors  PropertyGFAParking LargestPropertyUseType  \\\n",
       "0            12.0                   0                  Hotel   \n",
       "1            11.0               15064                  Hotel   \n",
       "2            41.0                   0                  Hotel   \n",
       "3            10.0                   0                  Hotel   \n",
       "4            18.0               12460                  Hotel   \n",
       "\n",
       "   LargestPropertyUseTypeGFA SecondLargestPropertyUseType  \\\n",
       "0                    88434.0                        Hotel   \n",
       "1                    83880.0                      Parking   \n",
       "2                   757243.0                      Parking   \n",
       "3                    61320.0                        Hotel   \n",
       "4                   123445.0                      Parking   \n",
       "\n",
       "   SecondLargestPropertyUseTypeGFA  ThirdLargestPropertyUseTypeGFA  \\\n",
       "0                              0.0                             0.0   \n",
       "1                          15064.0                          4622.0   \n",
       "2                         100000.0                             0.0   \n",
       "3                              0.0                             0.0   \n",
       "4                          68009.0                             0.0   \n",
       "\n",
       "   ENERGYSTARScore  SiteEnergyUse(kBtu)  GHGEmissions(MetricTonsCO2e)  \\\n",
       "0             65.0            6981428.0                        249.43   \n",
       "1             51.0            8354235.0                        263.51   \n",
       "2             18.0           73130656.0                       2061.48   \n",
       "3              1.0           28229320.0                       1936.34   \n",
       "4             67.0           14829099.0                        507.70   \n",
       "\n",
       "    Latitude   Longitude  \n",
       "0  47.612190 -122.337997  \n",
       "1  47.613106 -122.333358  \n",
       "2  47.613349 -122.337699  \n",
       "3  47.614216 -122.336609  \n",
       "4  47.613754 -122.340924  "
      ]
     },
     "execution_count": 6,
     "metadata": {},
     "output_type": "execute_result"
    }
   ],
   "source": [
    "data_unif.head()"
   ]
  },
  {
   "cell_type": "markdown",
   "metadata": {
    "id": "_ssP43SphJ1V"
   },
   "source": [
    "Chargement des librairies:"
   ]
  },
  {
   "cell_type": "code",
   "execution_count": 1,
   "metadata": {
    "id": "up7b7DeNKHR4"
   },
   "outputs": [],
   "source": [
    "from sklearn.linear_model import LinearRegression, Ridge, Lasso, ElasticNet\n",
    "from sklearn.dummy import DummyRegressor\n",
    "from sklearn.ensemble import GradientBoostingRegressor\n",
    "from sklearn.ensemble import RandomForestRegressor\n",
    "from sklearn.svm import SVR\n",
    "from sklearn.model_selection import GridSearchCV\n",
    "from sklearn.model_selection import cross_validate\n",
    "from sklearn.pipeline import make_pipeline\n",
    "from sklearn.pipeline import Pipeline\n",
    "from sklearn.compose import make_column_transformer\n",
    "from sklearn.compose import TransformedTargetRegressor\n",
    "from sklearn.preprocessing import OneHotEncoder\n",
    "from sklearn.preprocessing import MinMaxScaler\n",
    "from sklearn.compose import make_column_selector \n",
    "import numpy as np\n",
    "import seaborn as sns\n",
    "import matplotlib.pyplot as plt\n",
    "from sklearn import set_config\n",
    "set_config(display=\"diagram\")"
   ]
  },
  {
   "cell_type": "markdown",
   "metadata": {
    "id": "ohETrtdPhJ1Y"
   },
   "source": [
    "Variables explicatives et variables expliquées"
   ]
  },
  {
   "cell_type": "code",
   "execution_count": 4,
   "metadata": {
    "id": "-DdgtcnbLGqe"
   },
   "outputs": [],
   "source": [
    "y = data_unif[['GHGEmissions(MetricTonsCO2e)','SiteEnergyUse(kBtu)']]\n",
    "X = data_unif[data_unif.columns.drop(['GHGEmissions(MetricTonsCO2e)','SiteEnergyUse(kBtu)'])]"
   ]
  },
  {
   "cell_type": "markdown",
   "metadata": {
    "id": "mSUYPaVVhJ1a"
   },
   "source": [
    "Nous allons spliter nos données pour obtenir un jeu d'entrainement et un jeu de test (25% des données):"
   ]
  },
  {
   "cell_type": "code",
   "execution_count": 5,
   "metadata": {
    "id": "a0u8UzIaFadO"
   },
   "outputs": [],
   "source": [
    "from sklearn.model_selection import train_test_split\n",
    "X_train, X_test, y_train, y_test = train_test_split(X, y, test_size=0.25, random_state=11)"
   ]
  },
  {
   "cell_type": "markdown",
   "metadata": {
    "id": "zvr4pgjyhJ1c"
   },
   "source": [
    "Dans cette partie, nous définissons les métriques utilisées, la MAE et la RMSE et le coefficient de détermination $R_2$.\n",
    "La RMSE est plus sensible que la MAE aux valeurs qui s'écartent de la normale:\n",
    "\n",
    "$$\\mbox{RMSE} =\\sqrt{\\frac{\\sum_{i=1}^n (\\hat{y}_i-y_i)^2}{n}}$$\n",
    "\n",
    "$$\\mbox{MAE} =\\frac{\\sum_{i=1}^n |\\hat{y}_i-y_i|}{n}$$\n",
    "\n",
    "$$R_2 = 1-\\frac{RMSE^2}{var[y]}$$\n"
   ]
  },
  {
   "cell_type": "code",
   "execution_count": 6,
   "metadata": {
    "id": "UXcjfnY0tnsg"
   },
   "outputs": [],
   "source": [
    "def model_accuracy(y_pred,y_test):\n",
    "    SSR = ((y_pred-y_test)**2).mean()\n",
    "    SST = (((y_test-y_test.mean())**2).mean())\n",
    "    r2 = 1-SSR/SST\n",
    "    print(\"MAE (L1)       %.4f\" %    abs(y_pred-y_test).mean())\n",
    "    print(\"RMSE (L2)      %.4f\" %    np.sqrt(((y_pred-y_test)**2).mean()))\n",
    "    print(\"Mediane-AE      %.4f\" %   (abs(y_pred-y_test)).median())\n",
    "    print(\"R2 (CV)          %.4f\"%  r2)"
   ]
  },
  {
   "cell_type": "markdown",
   "metadata": {
    "id": "a3d3iX-touqk"
   },
   "source": [
    "Avant d'utiliser notre jeu de données pour des régressions, nous allons effectuer un prétraitement concernant une transformation des varaibles catégorielles et numériques. L'encodeur *OneHotEncoder* sera utilisé pour encoder les colonnes de catégories, et une normalisation des colonnes numériques à travers *MinMaxScaler*. Ce dernier transformeur, nous a permis d'éviter des divergences pour certains  fits pour le modèle SVR.\n",
    "\n"
   ]
  },
  {
   "cell_type": "code",
   "execution_count": 7,
   "metadata": {
    "colab": {
     "base_uri": "https://localhost:8080/",
     "height": 118
    },
    "id": "8vyeroy1Kuet",
    "outputId": "730027cc-f094-4450-fa08-588ae78dab71"
   },
   "outputs": [
    {
     "data": {
      "text/html": [
       "<style>#sk-c89576b1-6d37-4b32-a368-e21289497296 {color: black;background-color: white;}#sk-c89576b1-6d37-4b32-a368-e21289497296 pre{padding: 0;}#sk-c89576b1-6d37-4b32-a368-e21289497296 div.sk-toggleable {background-color: white;}#sk-c89576b1-6d37-4b32-a368-e21289497296 label.sk-toggleable__label {cursor: pointer;display: block;width: 100%;margin-bottom: 0;padding: 0.3em;box-sizing: border-box;text-align: center;}#sk-c89576b1-6d37-4b32-a368-e21289497296 label.sk-toggleable__label-arrow:before {content: \"▸\";float: left;margin-right: 0.25em;color: #696969;}#sk-c89576b1-6d37-4b32-a368-e21289497296 label.sk-toggleable__label-arrow:hover:before {color: black;}#sk-c89576b1-6d37-4b32-a368-e21289497296 div.sk-estimator:hover label.sk-toggleable__label-arrow:before {color: black;}#sk-c89576b1-6d37-4b32-a368-e21289497296 div.sk-toggleable__content {max-height: 0;max-width: 0;overflow: hidden;text-align: left;background-color: #f0f8ff;}#sk-c89576b1-6d37-4b32-a368-e21289497296 div.sk-toggleable__content pre {margin: 0.2em;color: black;border-radius: 0.25em;background-color: #f0f8ff;}#sk-c89576b1-6d37-4b32-a368-e21289497296 input.sk-toggleable__control:checked~div.sk-toggleable__content {max-height: 200px;max-width: 100%;overflow: auto;}#sk-c89576b1-6d37-4b32-a368-e21289497296 input.sk-toggleable__control:checked~label.sk-toggleable__label-arrow:before {content: \"▾\";}#sk-c89576b1-6d37-4b32-a368-e21289497296 div.sk-estimator input.sk-toggleable__control:checked~label.sk-toggleable__label {background-color: #d4ebff;}#sk-c89576b1-6d37-4b32-a368-e21289497296 div.sk-label input.sk-toggleable__control:checked~label.sk-toggleable__label {background-color: #d4ebff;}#sk-c89576b1-6d37-4b32-a368-e21289497296 input.sk-hidden--visually {border: 0;clip: rect(1px 1px 1px 1px);clip: rect(1px, 1px, 1px, 1px);height: 1px;margin: -1px;overflow: hidden;padding: 0;position: absolute;width: 1px;}#sk-c89576b1-6d37-4b32-a368-e21289497296 div.sk-estimator {font-family: monospace;background-color: #f0f8ff;border: 1px dotted black;border-radius: 0.25em;box-sizing: border-box;margin-bottom: 0.5em;}#sk-c89576b1-6d37-4b32-a368-e21289497296 div.sk-estimator:hover {background-color: #d4ebff;}#sk-c89576b1-6d37-4b32-a368-e21289497296 div.sk-parallel-item::after {content: \"\";width: 100%;border-bottom: 1px solid gray;flex-grow: 1;}#sk-c89576b1-6d37-4b32-a368-e21289497296 div.sk-label:hover label.sk-toggleable__label {background-color: #d4ebff;}#sk-c89576b1-6d37-4b32-a368-e21289497296 div.sk-serial::before {content: \"\";position: absolute;border-left: 1px solid gray;box-sizing: border-box;top: 2em;bottom: 0;left: 50%;}#sk-c89576b1-6d37-4b32-a368-e21289497296 div.sk-serial {display: flex;flex-direction: column;align-items: center;background-color: white;padding-right: 0.2em;padding-left: 0.2em;}#sk-c89576b1-6d37-4b32-a368-e21289497296 div.sk-item {z-index: 1;}#sk-c89576b1-6d37-4b32-a368-e21289497296 div.sk-parallel {display: flex;align-items: stretch;justify-content: center;background-color: white;}#sk-c89576b1-6d37-4b32-a368-e21289497296 div.sk-parallel::before {content: \"\";position: absolute;border-left: 1px solid gray;box-sizing: border-box;top: 2em;bottom: 0;left: 50%;}#sk-c89576b1-6d37-4b32-a368-e21289497296 div.sk-parallel-item {display: flex;flex-direction: column;position: relative;background-color: white;}#sk-c89576b1-6d37-4b32-a368-e21289497296 div.sk-parallel-item:first-child::after {align-self: flex-end;width: 50%;}#sk-c89576b1-6d37-4b32-a368-e21289497296 div.sk-parallel-item:last-child::after {align-self: flex-start;width: 50%;}#sk-c89576b1-6d37-4b32-a368-e21289497296 div.sk-parallel-item:only-child::after {width: 0;}#sk-c89576b1-6d37-4b32-a368-e21289497296 div.sk-dashed-wrapped {border: 1px dashed gray;margin: 0 0.4em 0.5em 0.4em;box-sizing: border-box;padding-bottom: 0.4em;background-color: white;position: relative;}#sk-c89576b1-6d37-4b32-a368-e21289497296 div.sk-label label {font-family: monospace;font-weight: bold;background-color: white;display: inline-block;line-height: 1.2em;}#sk-c89576b1-6d37-4b32-a368-e21289497296 div.sk-label-container {position: relative;z-index: 2;text-align: center;}#sk-c89576b1-6d37-4b32-a368-e21289497296 div.sk-container {/* jupyter's `normalize.less` sets `[hidden] { display: none; }` but bootstrap.min.css set `[hidden] { display: none !important; }` so we also need the `!important` here to be able to override the default hidden behavior on the sphinx rendered scikit-learn.org. See: https://github.com/scikit-learn/scikit-learn/issues/21755 */display: inline-block !important;position: relative;}#sk-c89576b1-6d37-4b32-a368-e21289497296 div.sk-text-repr-fallback {display: none;}</style><div id=\"sk-c89576b1-6d37-4b32-a368-e21289497296\" class=\"sk-top-container\"><div class=\"sk-text-repr-fallback\"><pre>ColumnTransformer(transformers=[(&#x27;cat&#x27;, OneHotEncoder(handle_unknown=&#x27;ignore&#x27;),\n",
       "                                 &lt;sklearn.compose._column_transformer.make_column_selector object at 0x000001CDEA8F5970&gt;),\n",
       "                                (&#x27;num&#x27;, MinMaxScaler(),\n",
       "                                 &lt;sklearn.compose._column_transformer.make_column_selector object at 0x000001CDEA8F5E80&gt;)])</pre><b>Please rerun this cell to show the HTML repr or trust the notebook.</b></div><div class=\"sk-container\" hidden><div class=\"sk-item sk-dashed-wrapped\"><div class=\"sk-label-container\"><div class=\"sk-label sk-toggleable\"><input class=\"sk-toggleable__control sk-hidden--visually\" id=\"747768ce-ae38-4b5c-a12f-69bd4273ec1b\" type=\"checkbox\" ><label for=\"747768ce-ae38-4b5c-a12f-69bd4273ec1b\" class=\"sk-toggleable__label sk-toggleable__label-arrow\">ColumnTransformer</label><div class=\"sk-toggleable__content\"><pre>ColumnTransformer(transformers=[(&#x27;cat&#x27;, OneHotEncoder(handle_unknown=&#x27;ignore&#x27;),\n",
       "                                 &lt;sklearn.compose._column_transformer.make_column_selector object at 0x000001CDEA8F5970&gt;),\n",
       "                                (&#x27;num&#x27;, MinMaxScaler(),\n",
       "                                 &lt;sklearn.compose._column_transformer.make_column_selector object at 0x000001CDEA8F5E80&gt;)])</pre></div></div></div><div class=\"sk-parallel\"><div class=\"sk-parallel-item\"><div class=\"sk-item\"><div class=\"sk-label-container\"><div class=\"sk-label sk-toggleable\"><input class=\"sk-toggleable__control sk-hidden--visually\" id=\"b36489ef-160c-4f6e-9557-aa006906772c\" type=\"checkbox\" ><label for=\"b36489ef-160c-4f6e-9557-aa006906772c\" class=\"sk-toggleable__label sk-toggleable__label-arrow\">cat</label><div class=\"sk-toggleable__content\"><pre>&lt;sklearn.compose._column_transformer.make_column_selector object at 0x000001CDEA8F5970&gt;</pre></div></div></div><div class=\"sk-serial\"><div class=\"sk-item\"><div class=\"sk-estimator sk-toggleable\"><input class=\"sk-toggleable__control sk-hidden--visually\" id=\"2b3ab52d-2861-46eb-9be0-4ed2852cd25a\" type=\"checkbox\" ><label for=\"2b3ab52d-2861-46eb-9be0-4ed2852cd25a\" class=\"sk-toggleable__label sk-toggleable__label-arrow\">OneHotEncoder</label><div class=\"sk-toggleable__content\"><pre>OneHotEncoder(handle_unknown=&#x27;ignore&#x27;)</pre></div></div></div></div></div></div><div class=\"sk-parallel-item\"><div class=\"sk-item\"><div class=\"sk-label-container\"><div class=\"sk-label sk-toggleable\"><input class=\"sk-toggleable__control sk-hidden--visually\" id=\"1ed7b28b-f04d-48c3-910b-83309a42484c\" type=\"checkbox\" ><label for=\"1ed7b28b-f04d-48c3-910b-83309a42484c\" class=\"sk-toggleable__label sk-toggleable__label-arrow\">num</label><div class=\"sk-toggleable__content\"><pre>&lt;sklearn.compose._column_transformer.make_column_selector object at 0x000001CDEA8F5E80&gt;</pre></div></div></div><div class=\"sk-serial\"><div class=\"sk-item\"><div class=\"sk-estimator sk-toggleable\"><input class=\"sk-toggleable__control sk-hidden--visually\" id=\"9618c157-f0c7-4e22-975d-d4eabac4f555\" type=\"checkbox\" ><label for=\"9618c157-f0c7-4e22-975d-d4eabac4f555\" class=\"sk-toggleable__label sk-toggleable__label-arrow\">MinMaxScaler</label><div class=\"sk-toggleable__content\"><pre>MinMaxScaler()</pre></div></div></div></div></div></div></div></div></div></div>"
      ],
      "text/plain": [
       "ColumnTransformer(transformers=[('cat', OneHotEncoder(handle_unknown='ignore'),\n",
       "                                 <sklearn.compose._column_transformer.make_column_selector object at 0x000001CDEA8F5970>),\n",
       "                                ('num', MinMaxScaler(),\n",
       "                                 <sklearn.compose._column_transformer.make_column_selector object at 0x000001CDEA8F5E80>)])"
      ]
     },
     "execution_count": 7,
     "metadata": {},
     "output_type": "execute_result"
    }
   ],
   "source": [
    "from sklearn.compose import ColumnTransformer\n",
    "cat_selector = make_column_selector(dtype_include=object)\n",
    "num_selector = make_column_selector(dtype_include=np.number)\n",
    "cat_transf = OneHotEncoder(handle_unknown=\"ignore\")\n",
    "num_transf = MinMaxScaler()\n",
    "C_transf =ColumnTransformer(\n",
    "    transformers =[('cat',cat_transf, cat_selector), ('num',num_transf, num_selector)])\n",
    "C_transf"
   ]
  },
  {
   "cell_type": "code",
   "execution_count": 8,
   "metadata": {
    "colab": {
     "base_uri": "https://localhost:8080/"
    },
    "id": "xb-xzfphLA0s",
    "outputId": "360a186c-8a8d-449c-87b8-9edd9b8c1bbb"
   },
   "outputs": [
    {
     "data": {
      "text/plain": [
       "[('cat',\n",
       "  OneHotEncoder(handle_unknown='ignore'),\n",
       "  ['BuildingType',\n",
       "   'PrimaryPropertyType',\n",
       "   'LargestPropertyUseType',\n",
       "   'SecondLargestPropertyUseType']),\n",
       " ('num',\n",
       "  MinMaxScaler(),\n",
       "  ['Agebuilding',\n",
       "   'NumberofBuildings',\n",
       "   'NumberofFloors',\n",
       "   'PropertyGFAParking',\n",
       "   'LargestPropertyUseTypeGFA',\n",
       "   'SecondLargestPropertyUseTypeGFA',\n",
       "   'ThirdLargestPropertyUseTypeGFA',\n",
       "   'ENERGYSTARScore',\n",
       "   'Latitude',\n",
       "   'Longitude'])]"
      ]
     },
     "execution_count": 8,
     "metadata": {},
     "output_type": "execute_result"
    }
   ],
   "source": [
    "C_transf.fit(X).transformers_"
   ]
  },
  {
   "cell_type": "markdown",
   "metadata": {
    "id": "y19GVRIlhJ1n"
   },
   "source": [
    "Nous avons vu qu'une transformation logarithmique des variables cibles permet  d'obtenons une distribution gaussienne des données à prédire.\n",
    "Nous allons donc appliquer cette transformation $\\log(1+x) $ dans notre pipeline grâce à l'objet **TransformedTargetRegressor** de la librairie Sklearn, où la fonction inverse $e^x-1$ est appliquée sur les prédictions."
   ]
  },
  {
   "cell_type": "code",
   "execution_count": 9,
   "metadata": {
    "id": "ukUK41hrLBvj"
   },
   "outputs": [],
   "source": [
    "def estimator_pipeline(clf, C_transform):\n",
    "   model_pipe = Pipeline(steps=[('ct', C_transform),('regressor', clf)])\n",
    "   clf_t = TransformedTargetRegressor(regressor=model_pipe,\n",
    "                                     func=np.log1p, \n",
    "                                     inverse_func=np.expm1)\n",
    "   return clf_t "
   ]
  },
  {
   "cell_type": "markdown",
   "metadata": {
    "id": "5zgBg6cPhJ1p"
   },
   "source": [
    "## <font id=\"section_2\"> 2. Comparaison des modèles pour les emissions du $Co_2$"
   ]
  },
  {
   "cell_type": "markdown",
   "metadata": {
    "id": "u9aw2lb4hJ1r"
   },
   "source": [
    "Nous allons commencer par prédire notre variable cible avec le modèle \n",
    "dummy:"
   ]
  },
  {
   "cell_type": "code",
   "execution_count": 10,
   "metadata": {
    "colab": {
     "base_uri": "https://localhost:8080/",
     "height": 193
    },
    "id": "_DmpQU9FHH9P",
    "outputId": "3987f875-e9b4-4ccf-a1f8-df1e69f11f8e"
   },
   "outputs": [
    {
     "data": {
      "text/html": [
       "<style>#sk-26721358-aea9-425b-a107-878be7937382 {color: black;background-color: white;}#sk-26721358-aea9-425b-a107-878be7937382 pre{padding: 0;}#sk-26721358-aea9-425b-a107-878be7937382 div.sk-toggleable {background-color: white;}#sk-26721358-aea9-425b-a107-878be7937382 label.sk-toggleable__label {cursor: pointer;display: block;width: 100%;margin-bottom: 0;padding: 0.3em;box-sizing: border-box;text-align: center;}#sk-26721358-aea9-425b-a107-878be7937382 label.sk-toggleable__label-arrow:before {content: \"▸\";float: left;margin-right: 0.25em;color: #696969;}#sk-26721358-aea9-425b-a107-878be7937382 label.sk-toggleable__label-arrow:hover:before {color: black;}#sk-26721358-aea9-425b-a107-878be7937382 div.sk-estimator:hover label.sk-toggleable__label-arrow:before {color: black;}#sk-26721358-aea9-425b-a107-878be7937382 div.sk-toggleable__content {max-height: 0;max-width: 0;overflow: hidden;text-align: left;background-color: #f0f8ff;}#sk-26721358-aea9-425b-a107-878be7937382 div.sk-toggleable__content pre {margin: 0.2em;color: black;border-radius: 0.25em;background-color: #f0f8ff;}#sk-26721358-aea9-425b-a107-878be7937382 input.sk-toggleable__control:checked~div.sk-toggleable__content {max-height: 200px;max-width: 100%;overflow: auto;}#sk-26721358-aea9-425b-a107-878be7937382 input.sk-toggleable__control:checked~label.sk-toggleable__label-arrow:before {content: \"▾\";}#sk-26721358-aea9-425b-a107-878be7937382 div.sk-estimator input.sk-toggleable__control:checked~label.sk-toggleable__label {background-color: #d4ebff;}#sk-26721358-aea9-425b-a107-878be7937382 div.sk-label input.sk-toggleable__control:checked~label.sk-toggleable__label {background-color: #d4ebff;}#sk-26721358-aea9-425b-a107-878be7937382 input.sk-hidden--visually {border: 0;clip: rect(1px 1px 1px 1px);clip: rect(1px, 1px, 1px, 1px);height: 1px;margin: -1px;overflow: hidden;padding: 0;position: absolute;width: 1px;}#sk-26721358-aea9-425b-a107-878be7937382 div.sk-estimator {font-family: monospace;background-color: #f0f8ff;border: 1px dotted black;border-radius: 0.25em;box-sizing: border-box;margin-bottom: 0.5em;}#sk-26721358-aea9-425b-a107-878be7937382 div.sk-estimator:hover {background-color: #d4ebff;}#sk-26721358-aea9-425b-a107-878be7937382 div.sk-parallel-item::after {content: \"\";width: 100%;border-bottom: 1px solid gray;flex-grow: 1;}#sk-26721358-aea9-425b-a107-878be7937382 div.sk-label:hover label.sk-toggleable__label {background-color: #d4ebff;}#sk-26721358-aea9-425b-a107-878be7937382 div.sk-serial::before {content: \"\";position: absolute;border-left: 1px solid gray;box-sizing: border-box;top: 2em;bottom: 0;left: 50%;}#sk-26721358-aea9-425b-a107-878be7937382 div.sk-serial {display: flex;flex-direction: column;align-items: center;background-color: white;padding-right: 0.2em;padding-left: 0.2em;}#sk-26721358-aea9-425b-a107-878be7937382 div.sk-item {z-index: 1;}#sk-26721358-aea9-425b-a107-878be7937382 div.sk-parallel {display: flex;align-items: stretch;justify-content: center;background-color: white;}#sk-26721358-aea9-425b-a107-878be7937382 div.sk-parallel::before {content: \"\";position: absolute;border-left: 1px solid gray;box-sizing: border-box;top: 2em;bottom: 0;left: 50%;}#sk-26721358-aea9-425b-a107-878be7937382 div.sk-parallel-item {display: flex;flex-direction: column;position: relative;background-color: white;}#sk-26721358-aea9-425b-a107-878be7937382 div.sk-parallel-item:first-child::after {align-self: flex-end;width: 50%;}#sk-26721358-aea9-425b-a107-878be7937382 div.sk-parallel-item:last-child::after {align-self: flex-start;width: 50%;}#sk-26721358-aea9-425b-a107-878be7937382 div.sk-parallel-item:only-child::after {width: 0;}#sk-26721358-aea9-425b-a107-878be7937382 div.sk-dashed-wrapped {border: 1px dashed gray;margin: 0 0.4em 0.5em 0.4em;box-sizing: border-box;padding-bottom: 0.4em;background-color: white;position: relative;}#sk-26721358-aea9-425b-a107-878be7937382 div.sk-label label {font-family: monospace;font-weight: bold;background-color: white;display: inline-block;line-height: 1.2em;}#sk-26721358-aea9-425b-a107-878be7937382 div.sk-label-container {position: relative;z-index: 2;text-align: center;}#sk-26721358-aea9-425b-a107-878be7937382 div.sk-container {/* jupyter's `normalize.less` sets `[hidden] { display: none; }` but bootstrap.min.css set `[hidden] { display: none !important; }` so we also need the `!important` here to be able to override the default hidden behavior on the sphinx rendered scikit-learn.org. See: https://github.com/scikit-learn/scikit-learn/issues/21755 */display: inline-block !important;position: relative;}#sk-26721358-aea9-425b-a107-878be7937382 div.sk-text-repr-fallback {display: none;}</style><div id=\"sk-26721358-aea9-425b-a107-878be7937382\" class=\"sk-top-container\"><div class=\"sk-text-repr-fallback\"><pre>TransformedTargetRegressor(func=&lt;ufunc &#x27;log1p&#x27;&gt;, inverse_func=&lt;ufunc &#x27;expm1&#x27;&gt;,\n",
       "                           regressor=Pipeline(steps=[(&#x27;ct&#x27;,\n",
       "                                                      ColumnTransformer(transformers=[(&#x27;cat&#x27;,\n",
       "                                                                                       OneHotEncoder(handle_unknown=&#x27;ignore&#x27;),\n",
       "                                                                                       &lt;sklearn.compose._column_transformer.make_column_selector object at 0x000001CDEA8F5970&gt;),\n",
       "                                                                                      (&#x27;num&#x27;,\n",
       "                                                                                       MinMaxScaler(),\n",
       "                                                                                       &lt;sklearn.compose._column_transformer.make_column_selector object at 0x000001CDEA8F5E80&gt;)])),\n",
       "                                                     (&#x27;regressor&#x27;,\n",
       "                                                      DummyRegressor())]))</pre><b>Please rerun this cell to show the HTML repr or trust the notebook.</b></div><div class=\"sk-container\" hidden><div class=\"sk-item sk-dashed-wrapped\"><div class=\"sk-label-container\"><div class=\"sk-label sk-toggleable\"><input class=\"sk-toggleable__control sk-hidden--visually\" id=\"5a3e1f16-b748-4407-a871-58be3d555f03\" type=\"checkbox\" ><label for=\"5a3e1f16-b748-4407-a871-58be3d555f03\" class=\"sk-toggleable__label sk-toggleable__label-arrow\">TransformedTargetRegressor</label><div class=\"sk-toggleable__content\"><pre>TransformedTargetRegressor(func=&lt;ufunc &#x27;log1p&#x27;&gt;, inverse_func=&lt;ufunc &#x27;expm1&#x27;&gt;,\n",
       "                           regressor=Pipeline(steps=[(&#x27;ct&#x27;,\n",
       "                                                      ColumnTransformer(transformers=[(&#x27;cat&#x27;,\n",
       "                                                                                       OneHotEncoder(handle_unknown=&#x27;ignore&#x27;),\n",
       "                                                                                       &lt;sklearn.compose._column_transformer.make_column_selector object at 0x000001CDEA8F5970&gt;),\n",
       "                                                                                      (&#x27;num&#x27;,\n",
       "                                                                                       MinMaxScaler(),\n",
       "                                                                                       &lt;sklearn.compose._column_transformer.make_column_selector object at 0x000001CDEA8F5E80&gt;)])),\n",
       "                                                     (&#x27;regressor&#x27;,\n",
       "                                                      DummyRegressor())]))</pre></div></div></div><div class=\"sk-parallel\"><div class=\"sk-parallel-item\"><div class=\"sk-item\"><div class=\"sk-serial\"><div class=\"sk-item\"><div class=\"sk-serial\"><div class=\"sk-item sk-dashed-wrapped\"><div class=\"sk-label-container\"><div class=\"sk-label sk-toggleable\"><input class=\"sk-toggleable__control sk-hidden--visually\" id=\"da88c86b-aaa2-4507-8d8b-06da2dbeb9ba\" type=\"checkbox\" ><label for=\"da88c86b-aaa2-4507-8d8b-06da2dbeb9ba\" class=\"sk-toggleable__label sk-toggleable__label-arrow\">ct: ColumnTransformer</label><div class=\"sk-toggleable__content\"><pre>ColumnTransformer(transformers=[(&#x27;cat&#x27;, OneHotEncoder(handle_unknown=&#x27;ignore&#x27;),\n",
       "                                 &lt;sklearn.compose._column_transformer.make_column_selector object at 0x000001CDEA8F5970&gt;),\n",
       "                                (&#x27;num&#x27;, MinMaxScaler(),\n",
       "                                 &lt;sklearn.compose._column_transformer.make_column_selector object at 0x000001CDEA8F5E80&gt;)])</pre></div></div></div><div class=\"sk-parallel\"><div class=\"sk-parallel-item\"><div class=\"sk-item\"><div class=\"sk-label-container\"><div class=\"sk-label sk-toggleable\"><input class=\"sk-toggleable__control sk-hidden--visually\" id=\"38d68092-2cad-41df-a037-5646f262d6dd\" type=\"checkbox\" ><label for=\"38d68092-2cad-41df-a037-5646f262d6dd\" class=\"sk-toggleable__label sk-toggleable__label-arrow\">cat</label><div class=\"sk-toggleable__content\"><pre>&lt;sklearn.compose._column_transformer.make_column_selector object at 0x000001CDEA8F5970&gt;</pre></div></div></div><div class=\"sk-serial\"><div class=\"sk-item\"><div class=\"sk-estimator sk-toggleable\"><input class=\"sk-toggleable__control sk-hidden--visually\" id=\"71d6d32c-39dd-4a7b-8d58-c9b4af20f709\" type=\"checkbox\" ><label for=\"71d6d32c-39dd-4a7b-8d58-c9b4af20f709\" class=\"sk-toggleable__label sk-toggleable__label-arrow\">OneHotEncoder</label><div class=\"sk-toggleable__content\"><pre>OneHotEncoder(handle_unknown=&#x27;ignore&#x27;)</pre></div></div></div></div></div></div><div class=\"sk-parallel-item\"><div class=\"sk-item\"><div class=\"sk-label-container\"><div class=\"sk-label sk-toggleable\"><input class=\"sk-toggleable__control sk-hidden--visually\" id=\"b6949e19-0345-4bff-adee-5646c6d06cee\" type=\"checkbox\" ><label for=\"b6949e19-0345-4bff-adee-5646c6d06cee\" class=\"sk-toggleable__label sk-toggleable__label-arrow\">num</label><div class=\"sk-toggleable__content\"><pre>&lt;sklearn.compose._column_transformer.make_column_selector object at 0x000001CDEA8F5E80&gt;</pre></div></div></div><div class=\"sk-serial\"><div class=\"sk-item\"><div class=\"sk-estimator sk-toggleable\"><input class=\"sk-toggleable__control sk-hidden--visually\" id=\"513fdfdf-79dd-45b2-8ac4-672337baeee7\" type=\"checkbox\" ><label for=\"513fdfdf-79dd-45b2-8ac4-672337baeee7\" class=\"sk-toggleable__label sk-toggleable__label-arrow\">MinMaxScaler</label><div class=\"sk-toggleable__content\"><pre>MinMaxScaler()</pre></div></div></div></div></div></div></div></div><div class=\"sk-item\"><div class=\"sk-estimator sk-toggleable\"><input class=\"sk-toggleable__control sk-hidden--visually\" id=\"df02ee51-4315-4aa8-a3cb-231ad6a37836\" type=\"checkbox\" ><label for=\"df02ee51-4315-4aa8-a3cb-231ad6a37836\" class=\"sk-toggleable__label sk-toggleable__label-arrow\">DummyRegressor</label><div class=\"sk-toggleable__content\"><pre>DummyRegressor()</pre></div></div></div></div></div></div></div></div></div></div></div></div>"
      ],
      "text/plain": [
       "TransformedTargetRegressor(func=<ufunc 'log1p'>, inverse_func=<ufunc 'expm1'>,\n",
       "                           regressor=Pipeline(steps=[('ct',\n",
       "                                                      ColumnTransformer(transformers=[('cat',\n",
       "                                                                                       OneHotEncoder(handle_unknown='ignore'),\n",
       "                                                                                       <sklearn.compose._column_transformer.make_column_selector object at 0x000001CDEA8F5970>),\n",
       "                                                                                      ('num',\n",
       "                                                                                       MinMaxScaler(),\n",
       "                                                                                       <sklearn.compose._column_transformer.make_column_selector object at 0x000001CDEA8F5E80>)])),\n",
       "                                                     ('regressor',\n",
       "                                                      DummyRegressor())]))"
      ]
     },
     "execution_count": 10,
     "metadata": {},
     "output_type": "execute_result"
    }
   ],
   "source": [
    "dummy_t = estimator_pipeline(DummyRegressor(strategy=\"mean\"), C_transf)\n",
    "dummy_t"
   ]
  },
  {
   "cell_type": "code",
   "execution_count": null,
   "metadata": {
    "colab": {
     "base_uri": "https://localhost:8080/"
    },
    "id": "S8X5UcyGuJoX",
    "outputId": "83e34a6e-d835-4cae-b058-cb376ec72fc4"
   },
   "outputs": [
    {
     "name": "stdout",
     "output_type": "stream",
     "text": [
      "MAE (L1)       139.7708\n",
      "RMSE (L2)      570.4369\n",
      "Mediane-AE      40.0125\n",
      "R2 (CV)          -0.0362\n"
     ]
    }
   ],
   "source": [
    "import time\n",
    "start_time = time.time()\n",
    "dummy_t.fit(X_train,y_train['GHGEmissions(MetricTonsCO2e)'])\n",
    "t=time.time() - start_time\n",
    "model_accuracy(dummy_t.predict(X_test),y_test['GHGEmissions(MetricTonsCO2e)'])"
   ]
  },
  {
   "cell_type": "markdown",
   "metadata": {
    "id": "UpdibvtrhJ1v"
   },
   "source": [
    "Tous les résultats des scores seront stockés dans la suite dans la DataFrame clf_sc pour la  variable \"*GHGEmissions(MetricTonsCO2e)*\"."
   ]
  },
  {
   "cell_type": "code",
   "execution_count": null,
   "metadata": {
    "id": "gYcr0vg0lywx"
   },
   "outputs": [],
   "source": [
    "index=['R2', 'RMSE','MFT_total(s)','MFT(s)']\n",
    "clc_sc =pd.DataFrame({'Dummy':np.array([-0.0362, -570.437, '-', round(t,3)])},index=index)"
   ]
  },
  {
   "cell_type": "code",
   "execution_count": 11,
   "metadata": {
    "colab": {
     "base_uri": "https://localhost:8080/",
     "height": 193
    },
    "id": "7YIPsWVsLuQP",
    "outputId": "4ee81ccb-3304-46c9-8b3a-57011f130d05"
   },
   "outputs": [
    {
     "data": {
      "text/html": [
       "<style>#sk-bc572ea3-aaf0-404d-a65f-7021b9ec46a4 {color: black;background-color: white;}#sk-bc572ea3-aaf0-404d-a65f-7021b9ec46a4 pre{padding: 0;}#sk-bc572ea3-aaf0-404d-a65f-7021b9ec46a4 div.sk-toggleable {background-color: white;}#sk-bc572ea3-aaf0-404d-a65f-7021b9ec46a4 label.sk-toggleable__label {cursor: pointer;display: block;width: 100%;margin-bottom: 0;padding: 0.3em;box-sizing: border-box;text-align: center;}#sk-bc572ea3-aaf0-404d-a65f-7021b9ec46a4 label.sk-toggleable__label-arrow:before {content: \"▸\";float: left;margin-right: 0.25em;color: #696969;}#sk-bc572ea3-aaf0-404d-a65f-7021b9ec46a4 label.sk-toggleable__label-arrow:hover:before {color: black;}#sk-bc572ea3-aaf0-404d-a65f-7021b9ec46a4 div.sk-estimator:hover label.sk-toggleable__label-arrow:before {color: black;}#sk-bc572ea3-aaf0-404d-a65f-7021b9ec46a4 div.sk-toggleable__content {max-height: 0;max-width: 0;overflow: hidden;text-align: left;background-color: #f0f8ff;}#sk-bc572ea3-aaf0-404d-a65f-7021b9ec46a4 div.sk-toggleable__content pre {margin: 0.2em;color: black;border-radius: 0.25em;background-color: #f0f8ff;}#sk-bc572ea3-aaf0-404d-a65f-7021b9ec46a4 input.sk-toggleable__control:checked~div.sk-toggleable__content {max-height: 200px;max-width: 100%;overflow: auto;}#sk-bc572ea3-aaf0-404d-a65f-7021b9ec46a4 input.sk-toggleable__control:checked~label.sk-toggleable__label-arrow:before {content: \"▾\";}#sk-bc572ea3-aaf0-404d-a65f-7021b9ec46a4 div.sk-estimator input.sk-toggleable__control:checked~label.sk-toggleable__label {background-color: #d4ebff;}#sk-bc572ea3-aaf0-404d-a65f-7021b9ec46a4 div.sk-label input.sk-toggleable__control:checked~label.sk-toggleable__label {background-color: #d4ebff;}#sk-bc572ea3-aaf0-404d-a65f-7021b9ec46a4 input.sk-hidden--visually {border: 0;clip: rect(1px 1px 1px 1px);clip: rect(1px, 1px, 1px, 1px);height: 1px;margin: -1px;overflow: hidden;padding: 0;position: absolute;width: 1px;}#sk-bc572ea3-aaf0-404d-a65f-7021b9ec46a4 div.sk-estimator {font-family: monospace;background-color: #f0f8ff;border: 1px dotted black;border-radius: 0.25em;box-sizing: border-box;margin-bottom: 0.5em;}#sk-bc572ea3-aaf0-404d-a65f-7021b9ec46a4 div.sk-estimator:hover {background-color: #d4ebff;}#sk-bc572ea3-aaf0-404d-a65f-7021b9ec46a4 div.sk-parallel-item::after {content: \"\";width: 100%;border-bottom: 1px solid gray;flex-grow: 1;}#sk-bc572ea3-aaf0-404d-a65f-7021b9ec46a4 div.sk-label:hover label.sk-toggleable__label {background-color: #d4ebff;}#sk-bc572ea3-aaf0-404d-a65f-7021b9ec46a4 div.sk-serial::before {content: \"\";position: absolute;border-left: 1px solid gray;box-sizing: border-box;top: 2em;bottom: 0;left: 50%;}#sk-bc572ea3-aaf0-404d-a65f-7021b9ec46a4 div.sk-serial {display: flex;flex-direction: column;align-items: center;background-color: white;padding-right: 0.2em;padding-left: 0.2em;}#sk-bc572ea3-aaf0-404d-a65f-7021b9ec46a4 div.sk-item {z-index: 1;}#sk-bc572ea3-aaf0-404d-a65f-7021b9ec46a4 div.sk-parallel {display: flex;align-items: stretch;justify-content: center;background-color: white;}#sk-bc572ea3-aaf0-404d-a65f-7021b9ec46a4 div.sk-parallel::before {content: \"\";position: absolute;border-left: 1px solid gray;box-sizing: border-box;top: 2em;bottom: 0;left: 50%;}#sk-bc572ea3-aaf0-404d-a65f-7021b9ec46a4 div.sk-parallel-item {display: flex;flex-direction: column;position: relative;background-color: white;}#sk-bc572ea3-aaf0-404d-a65f-7021b9ec46a4 div.sk-parallel-item:first-child::after {align-self: flex-end;width: 50%;}#sk-bc572ea3-aaf0-404d-a65f-7021b9ec46a4 div.sk-parallel-item:last-child::after {align-self: flex-start;width: 50%;}#sk-bc572ea3-aaf0-404d-a65f-7021b9ec46a4 div.sk-parallel-item:only-child::after {width: 0;}#sk-bc572ea3-aaf0-404d-a65f-7021b9ec46a4 div.sk-dashed-wrapped {border: 1px dashed gray;margin: 0 0.4em 0.5em 0.4em;box-sizing: border-box;padding-bottom: 0.4em;background-color: white;position: relative;}#sk-bc572ea3-aaf0-404d-a65f-7021b9ec46a4 div.sk-label label {font-family: monospace;font-weight: bold;background-color: white;display: inline-block;line-height: 1.2em;}#sk-bc572ea3-aaf0-404d-a65f-7021b9ec46a4 div.sk-label-container {position: relative;z-index: 2;text-align: center;}#sk-bc572ea3-aaf0-404d-a65f-7021b9ec46a4 div.sk-container {/* jupyter's `normalize.less` sets `[hidden] { display: none; }` but bootstrap.min.css set `[hidden] { display: none !important; }` so we also need the `!important` here to be able to override the default hidden behavior on the sphinx rendered scikit-learn.org. See: https://github.com/scikit-learn/scikit-learn/issues/21755 */display: inline-block !important;position: relative;}#sk-bc572ea3-aaf0-404d-a65f-7021b9ec46a4 div.sk-text-repr-fallback {display: none;}</style><div id=\"sk-bc572ea3-aaf0-404d-a65f-7021b9ec46a4\" class=\"sk-top-container\"><div class=\"sk-text-repr-fallback\"><pre>TransformedTargetRegressor(func=&lt;ufunc &#x27;log1p&#x27;&gt;, inverse_func=&lt;ufunc &#x27;expm1&#x27;&gt;,\n",
       "                           regressor=Pipeline(steps=[(&#x27;ct&#x27;,\n",
       "                                                      ColumnTransformer(transformers=[(&#x27;cat&#x27;,\n",
       "                                                                                       OneHotEncoder(handle_unknown=&#x27;ignore&#x27;),\n",
       "                                                                                       &lt;sklearn.compose._column_transformer.make_column_selector object at 0x000001CDEA8F5970&gt;),\n",
       "                                                                                      (&#x27;num&#x27;,\n",
       "                                                                                       MinMaxScaler(),\n",
       "                                                                                       &lt;sklearn.compose._column_transformer.make_column_selector object at 0x000001CDEA8F5E80&gt;)])),\n",
       "                                                     (&#x27;regressor&#x27;,\n",
       "                                                      LinearRegression())]))</pre><b>Please rerun this cell to show the HTML repr or trust the notebook.</b></div><div class=\"sk-container\" hidden><div class=\"sk-item sk-dashed-wrapped\"><div class=\"sk-label-container\"><div class=\"sk-label sk-toggleable\"><input class=\"sk-toggleable__control sk-hidden--visually\" id=\"44fc1828-04d1-408e-b5a2-111585c7b7e4\" type=\"checkbox\" ><label for=\"44fc1828-04d1-408e-b5a2-111585c7b7e4\" class=\"sk-toggleable__label sk-toggleable__label-arrow\">TransformedTargetRegressor</label><div class=\"sk-toggleable__content\"><pre>TransformedTargetRegressor(func=&lt;ufunc &#x27;log1p&#x27;&gt;, inverse_func=&lt;ufunc &#x27;expm1&#x27;&gt;,\n",
       "                           regressor=Pipeline(steps=[(&#x27;ct&#x27;,\n",
       "                                                      ColumnTransformer(transformers=[(&#x27;cat&#x27;,\n",
       "                                                                                       OneHotEncoder(handle_unknown=&#x27;ignore&#x27;),\n",
       "                                                                                       &lt;sklearn.compose._column_transformer.make_column_selector object at 0x000001CDEA8F5970&gt;),\n",
       "                                                                                      (&#x27;num&#x27;,\n",
       "                                                                                       MinMaxScaler(),\n",
       "                                                                                       &lt;sklearn.compose._column_transformer.make_column_selector object at 0x000001CDEA8F5E80&gt;)])),\n",
       "                                                     (&#x27;regressor&#x27;,\n",
       "                                                      LinearRegression())]))</pre></div></div></div><div class=\"sk-parallel\"><div class=\"sk-parallel-item\"><div class=\"sk-item\"><div class=\"sk-serial\"><div class=\"sk-item\"><div class=\"sk-serial\"><div class=\"sk-item sk-dashed-wrapped\"><div class=\"sk-label-container\"><div class=\"sk-label sk-toggleable\"><input class=\"sk-toggleable__control sk-hidden--visually\" id=\"368b4684-7041-46d6-8196-e54a4f29b57d\" type=\"checkbox\" ><label for=\"368b4684-7041-46d6-8196-e54a4f29b57d\" class=\"sk-toggleable__label sk-toggleable__label-arrow\">ct: ColumnTransformer</label><div class=\"sk-toggleable__content\"><pre>ColumnTransformer(transformers=[(&#x27;cat&#x27;, OneHotEncoder(handle_unknown=&#x27;ignore&#x27;),\n",
       "                                 &lt;sklearn.compose._column_transformer.make_column_selector object at 0x000001CDEA8F5970&gt;),\n",
       "                                (&#x27;num&#x27;, MinMaxScaler(),\n",
       "                                 &lt;sklearn.compose._column_transformer.make_column_selector object at 0x000001CDEA8F5E80&gt;)])</pre></div></div></div><div class=\"sk-parallel\"><div class=\"sk-parallel-item\"><div class=\"sk-item\"><div class=\"sk-label-container\"><div class=\"sk-label sk-toggleable\"><input class=\"sk-toggleable__control sk-hidden--visually\" id=\"a889a19e-80b6-4af4-9786-252460448880\" type=\"checkbox\" ><label for=\"a889a19e-80b6-4af4-9786-252460448880\" class=\"sk-toggleable__label sk-toggleable__label-arrow\">cat</label><div class=\"sk-toggleable__content\"><pre>&lt;sklearn.compose._column_transformer.make_column_selector object at 0x000001CDEA8F5970&gt;</pre></div></div></div><div class=\"sk-serial\"><div class=\"sk-item\"><div class=\"sk-estimator sk-toggleable\"><input class=\"sk-toggleable__control sk-hidden--visually\" id=\"9e9fe690-f23c-4e32-be1c-859b7a663300\" type=\"checkbox\" ><label for=\"9e9fe690-f23c-4e32-be1c-859b7a663300\" class=\"sk-toggleable__label sk-toggleable__label-arrow\">OneHotEncoder</label><div class=\"sk-toggleable__content\"><pre>OneHotEncoder(handle_unknown=&#x27;ignore&#x27;)</pre></div></div></div></div></div></div><div class=\"sk-parallel-item\"><div class=\"sk-item\"><div class=\"sk-label-container\"><div class=\"sk-label sk-toggleable\"><input class=\"sk-toggleable__control sk-hidden--visually\" id=\"f655943c-43da-4078-9b49-4b75c1677935\" type=\"checkbox\" ><label for=\"f655943c-43da-4078-9b49-4b75c1677935\" class=\"sk-toggleable__label sk-toggleable__label-arrow\">num</label><div class=\"sk-toggleable__content\"><pre>&lt;sklearn.compose._column_transformer.make_column_selector object at 0x000001CDEA8F5E80&gt;</pre></div></div></div><div class=\"sk-serial\"><div class=\"sk-item\"><div class=\"sk-estimator sk-toggleable\"><input class=\"sk-toggleable__control sk-hidden--visually\" id=\"271a0b34-1f6d-4e72-87ed-a0ddc0f58906\" type=\"checkbox\" ><label for=\"271a0b34-1f6d-4e72-87ed-a0ddc0f58906\" class=\"sk-toggleable__label sk-toggleable__label-arrow\">MinMaxScaler</label><div class=\"sk-toggleable__content\"><pre>MinMaxScaler()</pre></div></div></div></div></div></div></div></div><div class=\"sk-item\"><div class=\"sk-estimator sk-toggleable\"><input class=\"sk-toggleable__control sk-hidden--visually\" id=\"021651a3-4de9-4cc6-a861-b77087350915\" type=\"checkbox\" ><label for=\"021651a3-4de9-4cc6-a861-b77087350915\" class=\"sk-toggleable__label sk-toggleable__label-arrow\">LinearRegression</label><div class=\"sk-toggleable__content\"><pre>LinearRegression()</pre></div></div></div></div></div></div></div></div></div></div></div></div>"
      ],
      "text/plain": [
       "TransformedTargetRegressor(func=<ufunc 'log1p'>, inverse_func=<ufunc 'expm1'>,\n",
       "                           regressor=Pipeline(steps=[('ct',\n",
       "                                                      ColumnTransformer(transformers=[('cat',\n",
       "                                                                                       OneHotEncoder(handle_unknown='ignore'),\n",
       "                                                                                       <sklearn.compose._column_transformer.make_column_selector object at 0x000001CDEA8F5970>),\n",
       "                                                                                      ('num',\n",
       "                                                                                       MinMaxScaler(),\n",
       "                                                                                       <sklearn.compose._column_transformer.make_column_selector object at 0x000001CDEA8F5E80>)])),\n",
       "                                                     ('regressor',\n",
       "                                                      LinearRegression())]))"
      ]
     },
     "execution_count": 11,
     "metadata": {},
     "output_type": "execute_result"
    }
   ],
   "source": [
    "clf_lm = estimator_pipeline(LinearRegression(), C_transf)\n",
    "clf_lm"
   ]
  },
  {
   "cell_type": "code",
   "execution_count": null,
   "metadata": {
    "colab": {
     "base_uri": "https://localhost:8080/"
    },
    "id": "VF3BQ4meL6SF",
    "outputId": "74a9e7a9-4e42-4067-f901-2bcd9a9ddde0"
   },
   "outputs": [
    {
     "name": "stdout",
     "output_type": "stream",
     "text": [
      "MAE (L1)       380.4935\n",
      "RMSE (L2)      5155.6232\n",
      "Mediane-AE      25.8594\n",
      "R2 (CV)          -83.6461\n"
     ]
    }
   ],
   "source": [
    "clf_lm_t = estimator_pipeline(LinearRegression(), C_transf)\n",
    "clf_lm_t.fit(X_train, y_train['GHGEmissions(MetricTonsCO2e)'])\n",
    "model_accuracy(clf_lm_t.predict(X_test),y_test['GHGEmissions(MetricTonsCO2e)'])"
   ]
  },
  {
   "cell_type": "markdown",
   "metadata": {
    "id": "9WjEYUXthJ1z"
   },
   "source": [
    "Nous allons comparer des modèles de régression linéaires et non-linéaires avec des paramètres optimisés. \n",
    "Nous utilisons la fonction GridsearchCV pour générer une grille des estimateurs pour chaque modèle.\n",
    "deux métriques sont choisies pour cette comparaison, le 'R$_2$' et 'neg_root_mean_squared_error'. Les modèles linéares considérés sont:\n",
    "- Le régresseur linéaire classqiue\n",
    "- Le régresseur linéaire régularisé Ridge,  Lasso et ElasticNet\n",
    "les  modèles non-linéares sont onsidérés:\n",
    "- Le régresseur Support Vector (SVR) à noyau non-linéaire\n",
    "- Le random forest régresseur (RFR)\n",
    "- Le Gradient Boosting régresseur (GBR)\n"
   ]
  },
  {
   "cell_type": "code",
   "execution_count": null,
   "metadata": {
    "id": "IiO8NwC-aNbG"
   },
   "outputs": [],
   "source": [
    "metric = ['r2','neg_root_mean_squared_error']"
   ]
  },
  {
   "cell_type": "markdown",
   "metadata": {
    "id": "npRSblFfhJ11"
   },
   "source": [
    "### <font id=\"section_21\"> 2.1 Modèles de régression linéaires\n",
    "#### <font id=\"section_211\"> 2.1.1 Régression linéaire classique"
   ]
  },
  {
   "cell_type": "code",
   "execution_count": null,
   "metadata": {
    "colab": {
     "base_uri": "https://localhost:8080/"
    },
    "id": "-dQ7L4UCOFDX",
    "outputId": "d54f58b4-9d09-4850-c5b5-7519260305b1"
   },
   "outputs": [
    {
     "name": "stdout",
     "output_type": "stream",
     "text": [
      "Fitting 10 folds for each of 2 candidates, totalling 20 fits\n",
      "r2 : -845.5087486635224\n",
      "Best Params:  {'regressor__regressor__fit_intercept': True}\n",
      "Fitting 10 folds for each of 2 candidates, totalling 20 fits\n",
      "neg_root_mean_squared_error : -7729.421695402829\n",
      "Best Params:  {'regressor__regressor__fit_intercept': False}\n",
      "mean_fit_time: 2.2341551780700684\n"
     ]
    }
   ],
   "source": [
    "Sc=[]\n",
    "param_grid ={'regressor__regressor__fit_intercept':[False,True]}\n",
    "for sc in metric:\n",
    "  grid_search = GridSearchCV(estimator = clf_lm_t, param_grid=param_grid, cv=10, scoring=sc, verbose=1, n_jobs=-1)\n",
    "  grid_result = grid_search.fit(X_train, y_train['GHGEmissions(MetricTonsCO2e)'])\n",
    "  Sc.append(round(grid_result.best_score_,2))\n",
    "  print(sc,':' , grid_result.best_score_)\n",
    "  print('Best Params: ', grid_result.best_params_)\n",
    "mtf = grid_result.cv_results_['mean_fit_time'].mean()*10*len(grid_result.cv_results_['mean_fit_time'])\n",
    "Sc.append(round(mtf,3))\n",
    "Sc.append(round(grid_result.cv_results_['mean_fit_time'].mean(),3))\n",
    "print('mean_fit_time:', mtf)\n",
    "clc_sc=pd.concat([clc_sc,pd.DataFrame({'MLR':Sc},index=index)],axis=1)"
   ]
  },
  {
   "cell_type": "markdown",
   "metadata": {
    "id": "voUaKeAThJ13"
   },
   "source": [
    "On remarque que le modèle de régression linéaire multivarié classique affiche des mauvaises scores sur la grille.\n",
    "Ceci peut être expliquer par la sensibilité de ce modèle classqiue aux problèmes d'hétéroscédasticié."
   ]
  },
  {
   "cell_type": "markdown",
   "metadata": {
    "id": "p0RXm5ruhJ14"
   },
   "source": [
    "#### <font id=\"section_212\"> 2.1.2 Régularisation Ridge"
   ]
  },
  {
   "cell_type": "markdown",
   "metadata": {
    "id": "ldFF9x05DB_c"
   },
   "source": [
    "Ridge régression impose une pénalité sur l'amplitude des coefficients. Ridge coefficients $w$ minimisent une somme résiduelle des carrés pénalisée :\n",
    "$$\n",
    "\\min_{w}\\|Xw-\\log(1+y)\\|_2^2+\\alpha\\sum_{j=0}^{n_s}w_j^2,\n",
    "$$\n",
    "where the paramètre de complexité $\\alpha>0$ contrôle la quantité de rétrécissement."
   ]
  },
  {
   "cell_type": "code",
   "execution_count": null,
   "metadata": {
    "colab": {
     "base_uri": "https://localhost:8080/"
    },
    "id": "AXUf1IU-NYks",
    "outputId": "c1f57a2a-1831-48d9-9b1a-adecd3ad0432"
   },
   "outputs": [
    {
     "name": "stdout",
     "output_type": "stream",
     "text": [
      "Fitting 10 folds for each of 123 candidates, totalling 1230 fits\n",
      "r2 : 0.4891889274305582\n",
      "Best Params:  {'regressor__regressor__alpha': 11.000725000000001, 'regressor__regressor__tol': 0.1}\n",
      "Fitting 10 folds for each of 123 candidates, totalling 1230 fits\n",
      "neg_root_mean_squared_error : -344.8340945706204\n",
      "Best Params:  {'regressor__regressor__alpha': 9.000774999999999, 'regressor__regressor__tol': 0.1}\n",
      "mean_fit_time: 42.63601422309876\n"
     ]
    }
   ],
   "source": [
    "Sc=[]\n",
    "clf_ridge = estimator_pipeline(Ridge(), C_transf)\n",
    "param_grid = {'regressor__regressor__alpha':np.linspace(0.001,40,41),\n",
    "              'regressor__regressor__tol':[0.5,0.1,0.01]}\n",
    "for sc in metric:              \n",
    "  grid_search = GridSearchCV(estimator = clf_ridge, param_grid=param_grid, cv=10, scoring=sc, verbose=1, n_jobs=-1)\n",
    "  grid_result = grid_search.fit(X_train, y_train['GHGEmissions(MetricTonsCO2e)'])\n",
    "  Sc.append(round(grid_result.best_score_,3))\n",
    "  print(sc,':' , grid_result.best_score_)\n",
    "  print('Best Params: ', grid_result.best_params_)\n",
    "mtf = grid_result.cv_results_['mean_fit_time'].mean()*10*len(grid_result.cv_results_['mean_fit_time'])\n",
    "Sc.append(round(mtf,3))\n",
    "Sc.append(round(grid_result.cv_results_['mean_fit_time'].mean(),3))\n",
    "print('mean_fit_time:', mtf)\n",
    "clc_sc=pd.concat([clc_sc,pd.DataFrame({'Ridge':Sc},index=index)],axis=1)"
   ]
  },
  {
   "cell_type": "markdown",
   "metadata": {
    "id": "H0YZt2HrhJ17"
   },
   "source": [
    "La régularisation Ridge améliore nettement les scores des prédictions sur la grille GridSearchCV."
   ]
  },
  {
   "cell_type": "markdown",
   "metadata": {
    "id": "LXstnppkhJ18"
   },
   "source": [
    "#### <font id=\"section_213\"> 2.1.3 Régularisation Lasso"
   ]
  },
  {
   "cell_type": "markdown",
   "metadata": {
    "id": "IiGOyik3FIlO"
   },
   "source": [
    "Lasso régression  impose une pénalité sur l'amplitude des coefficients. Ridge coefficients $w$ minimisent une somme résiduelle des carrés pénalisée :\n",
    "$$\n",
    "\\min_{w}\\|Xw-\\log(1+y)\\|_2^2+\\alpha\\sum_{j=0}^{n_s}|w_j|,\n",
    "$$\n"
   ]
  },
  {
   "cell_type": "code",
   "execution_count": null,
   "metadata": {
    "colab": {
     "base_uri": "https://localhost:8080/"
    },
    "id": "7pEIO3RKQsml",
    "outputId": "d5591919-71a8-4c5a-fd9f-7ec1255526f4"
   },
   "outputs": [
    {
     "name": "stdout",
     "output_type": "stream",
     "text": [
      "Fitting 10 folds for each of 243 candidates, totalling 2430 fits\n",
      "r2 : -0.06071257064347777\n",
      "Best Params:  {'regressor__regressor__alpha': 0.5009875, 'regressor__regressor__tol': 0.1}\n",
      "Fitting 10 folds for each of 243 candidates, totalling 2430 fits\n",
      "neg_root_mean_squared_error : -604.7400049902938\n",
      "Best Params:  {'regressor__regressor__alpha': 0.5009875, 'regressor__regressor__tol': 0.1}\n",
      "mean_fit_time: 79.68975234031679\n"
     ]
    }
   ],
   "source": [
    "Sc=[]\n",
    "clf_lasso = estimator_pipeline(Lasso(), C_transf)\n",
    "param_grid = {'regressor__regressor__alpha':np.linspace(0.001,40,81),\n",
    "              'regressor__regressor__tol':[0.1,0.05,0.001]}\n",
    "for sc in metric:              \n",
    "  grid_search = GridSearchCV(estimator = clf_lasso, param_grid=param_grid, cv=10, scoring=sc, verbose=1, n_jobs=-1)\n",
    "  grid_result = grid_search.fit(X_train, y_train['GHGEmissions(MetricTonsCO2e)'])\n",
    "  Sc.append(round(grid_result.best_score_,3))\n",
    "  print(sc,':' , grid_result.best_score_)\n",
    "  print('Best Params: ', grid_result.best_params_)\n",
    "mtf = grid_result.cv_results_['mean_fit_time'].mean()*10*len(grid_result.cv_results_['mean_fit_time'])\n",
    "Sc.append(round(mtf,3))\n",
    "Sc.append(round(grid_result.cv_results_['mean_fit_time'].mean(),3))\n",
    "print('mean_fit_time:', mtf)\n",
    "clc_sc=pd.concat([clc_sc,pd.DataFrame({'Lasso':Sc},index=index)],axis=1)"
   ]
  },
  {
   "cell_type": "markdown",
   "metadata": {
    "id": "qEuDlgQWhJ1_"
   },
   "source": [
    "#### <font id=\"section_214\"> 2.1.4 Régularisation ElasticNet"
   ]
  },
  {
   "cell_type": "markdown",
   "metadata": {
    "id": "8dAi-OYTFzAy"
   },
   "source": [
    "ElasticNet regression combine les deux algorithme Ridge et Lasso"
   ]
  },
  {
   "cell_type": "code",
   "execution_count": null,
   "metadata": {
    "colab": {
     "base_uri": "https://localhost:8080/"
    },
    "id": "0J25e7mqSBGa",
    "outputId": "3b97cf36-8196-4f56-f92b-62a0731381b7"
   },
   "outputs": [
    {
     "name": "stdout",
     "output_type": "stream",
     "text": [
      "Fitting 10 folds for each of 420 candidates, totalling 4200 fits\n",
      "r2 : -0.04990545698790401\n",
      "Best Params:  {'regressor__regressor__alpha': 1.0009499999999998, 'regressor__regressor__l1_ratio': 1e-12, 'regressor__regressor__tol': 0.1}\n",
      "Fitting 10 folds for each of 420 candidates, totalling 4200 fits\n",
      "neg_root_mean_squared_error : -602.605574169904\n",
      "Best Params:  {'regressor__regressor__alpha': 1.0009499999999998, 'regressor__regressor__l1_ratio': 1e-12, 'regressor__regressor__tol': 0.1}\n",
      "mean_fit_time: 177.3521089553833\n"
     ]
    }
   ],
   "source": [
    "Sc=[]\n",
    "clf_el_net = estimator_pipeline(ElasticNet(), C_transf)\n",
    "param_grid = {'regressor__regressor__alpha':np.linspace(0.001,20,21),\n",
    "              'regressor__regressor__l1_ratio':np.linspace(1e-12,1,10),\n",
    "              'regressor__regressor__tol':[0.1,0.01]}\n",
    "for sc in metric:\n",
    "  grid_search = GridSearchCV(estimator = clf_el_net, param_grid=param_grid, cv=10, scoring=sc, verbose=1, n_jobs=-1)\n",
    "  grid_result = grid_search.fit(X_train, y_train['GHGEmissions(MetricTonsCO2e)'])\n",
    "  Sc.append(round(grid_result.best_score_,3))\n",
    "  print(sc,':' , grid_result.best_score_)\n",
    "  print('Best Params: ', grid_result.best_params_)\n",
    "mtf = grid_result.cv_results_['mean_fit_time'].mean()*10*len(grid_result.cv_results_['mean_fit_time'])\n",
    "Sc.append(round(mtf,3))\n",
    "Sc.append(round(grid_result.cv_results_['mean_fit_time'].mean(),3))\n",
    "print('mean_fit_time:', mtf)\n",
    "clc_sc=pd.concat([clc_sc,pd.DataFrame({'El_Net':Sc},index=index)],axis=1)"
   ]
  },
  {
   "cell_type": "markdown",
   "metadata": {
    "id": "TAIGQhmFJZCe"
   },
   "source": [
    "### <font id=\"section_22\"> 2.2 Modèle non-linéaires \n",
    " #### 2.2.1 Support vector Regressor"
   ]
  },
  {
   "cell_type": "code",
   "execution_count": null,
   "metadata": {
    "colab": {
     "base_uri": "https://localhost:8080/"
    },
    "id": "boxAo-UVSjSq",
    "outputId": "c09eec0b-19c4-4133-a99a-ef4156d66114"
   },
   "outputs": [
    {
     "name": "stdout",
     "output_type": "stream",
     "text": [
      "Fitting 10 folds for each of 36 candidates, totalling 360 fits\n",
      "r2 : 0.5159422768141734\n",
      "Best Params:  {'regressor__regressor__C': 1, 'regressor__regressor__epsilon': 0.1, 'regressor__regressor__gamma': 0.1, 'regressor__regressor__kernel': 'rbf'}\n",
      "Fitting 10 folds for each of 36 candidates, totalling 360 fits\n",
      "neg_root_mean_squared_error : -360.00509321306055\n",
      "Best Params:  {'regressor__regressor__C': 8, 'regressor__regressor__epsilon': 0.05, 'regressor__regressor__gamma': 0.01, 'regressor__regressor__kernel': 'rbf'}\n",
      "mean_fit_time: 275.9483141899109\n"
     ]
    }
   ],
   "source": [
    "Sc=[]\n",
    "clf_svr = estimator_pipeline(SVR(), C_transf)\n",
    "param_grid = {'regressor__regressor__kernel' : ('rbf', 'sigmoid'),\n",
    "    'regressor__regressor__gamma' : [ 1e-2, 1e-1], \n",
    "              'regressor__regressor__epsilon' : [0.01, 0.05, 0.1], \n",
    "              'regressor__regressor__C' : [ 1, 4, 8]} \n",
    "for sc in metric:\n",
    "  grid_search = GridSearchCV(estimator = clf_svr, param_grid=param_grid, cv=10, scoring=sc, verbose=1, n_jobs=-1)\n",
    "  grid_result = grid_search.fit(X_train, y_train['GHGEmissions(MetricTonsCO2e)'])\n",
    "  Sc.append(round(grid_result.best_score_,3))\n",
    "  print(sc,':' , grid_result.best_score_)\n",
    "  print('Best Params: ', grid_result.best_params_)\n",
    "mtf = grid_result.cv_results_['mean_fit_time'].mean()*10*len(grid_result.cv_results_['mean_fit_time'])\n",
    "Sc.append(round(mtf,3))\n",
    "Sc.append(round(grid_result.cv_results_['mean_fit_time'].mean(),3))\n",
    "print('mean_fit_time:', mtf)\n",
    "clc_sc=pd.concat([clc_sc,pd.DataFrame({'SVR':Sc},index=index)],axis=1)"
   ]
  },
  {
   "cell_type": "markdown",
   "metadata": {
    "id": "4jp2JI6zhJ2E"
   },
   "source": [
    "#### 2.2.2 Random Forest Regressor"
   ]
  },
  {
   "cell_type": "code",
   "execution_count": null,
   "metadata": {
    "colab": {
     "base_uri": "https://localhost:8080/"
    },
    "id": "kYuErtKTVTRo",
    "outputId": "fa7f39cd-e3f6-4b62-c779-bcc6bff830ea"
   },
   "outputs": [
    {
     "name": "stdout",
     "output_type": "stream",
     "text": [
      "Fitting 10 folds for each of 18 candidates, totalling 180 fits\n",
      "r2 : 0.6620444422420937\n",
      "Best Params:  {'regressor__regressor__max_features': 'auto', 'regressor__regressor__min_samples_leaf': 1, 'regressor__regressor__n_estimators': 100}\n",
      "Fitting 10 folds for each of 18 candidates, totalling 180 fits\n",
      "neg_root_mean_squared_error : -332.1492507537961\n",
      "Best Params:  {'regressor__regressor__max_features': 'auto', 'regressor__regressor__min_samples_leaf': 1, 'regressor__regressor__n_estimators': 300}\n",
      "mean_fit_time: 1010.3470354080199\n"
     ]
    }
   ],
   "source": [
    "Sc=[]\n",
    "param_grid={\n",
    "     'regressor__regressor__n_estimators' : [10, 100,  300],\n",
    "    'regressor__regressor__min_samples_leaf' : [1, 2,3], \n",
    "    'regressor__regressor__max_features': ['auto', 'sqrt']}\n",
    "clf_rf = estimator_pipeline(RandomForestRegressor(), C_transf)\n",
    "for sc in metric:\n",
    "  grid_search = GridSearchCV(estimator = clf_rf, param_grid=param_grid, cv=10, scoring=sc, verbose=1, n_jobs=-1)\n",
    "  grid_result = grid_search.fit(X_train, y_train['GHGEmissions(MetricTonsCO2e)'])\n",
    "  Sc.append(grid_result.best_score_)\n",
    "  print(sc,':' , grid_result.best_score_)\n",
    "  print('Best Params: ', grid_result.best_params_)\n",
    "mtf = grid_result.cv_results_['mean_fit_time'].mean()*10*len(grid_result.cv_results_['mean_fit_time'])\n",
    "Sc.append(round(mtf,3))\n",
    "Sc.append(round(grid_result.cv_results_['mean_fit_time'].mean(),3))\n",
    "print('mean_fit_time:', mtf)\n",
    "clc_sc=pd.concat([clc_sc,pd.DataFrame({'RFR':Sc},index=index)],axis=1)\n"
   ]
  },
  {
   "cell_type": "markdown",
   "metadata": {
    "id": "RH3BngdnJ6jk"
   },
   "source": [
    "#### 2.2.3 Gradient Boosting Regressor "
   ]
  },
  {
   "cell_type": "code",
   "execution_count": null,
   "metadata": {
    "colab": {
     "base_uri": "https://localhost:8080/"
    },
    "id": "9Gnas5MeX_0q",
    "outputId": "5f62b3d1-6b97-4abc-f683-ad11a2480c2b"
   },
   "outputs": [
    {
     "name": "stdout",
     "output_type": "stream",
     "text": [
      "Fitting 10 folds for each of 36 candidates, totalling 360 fits\n",
      "r2 : 0.752020089022828\n",
      "Best Params:  {'regressor__regressor__learning_rate': 0.03, 'regressor__regressor__max_depth': 8, 'regressor__regressor__n_estimators': 500, 'regressor__regressor__subsample': 0.8}\n",
      "Fitting 10 folds for each of 36 candidates, totalling 360 fits\n",
      "neg_root_mean_squared_error : -274.71466183205337\n",
      "Best Params:  {'regressor__regressor__learning_rate': 0.03, 'regressor__regressor__max_depth': 8, 'regressor__regressor__n_estimators': 500, 'regressor__regressor__subsample': 0.5}\n",
      "mean_fit_time: 945.0006284713746\n"
     ]
    }
   ],
   "source": [
    "Sc=[]\n",
    "clf_gbr = estimator_pipeline(GradientBoostingRegressor(), C_transf)\n",
    "param_grid = {'regressor__regressor__learning_rate': [0.02,0.03],\n",
    "                  'regressor__regressor__subsample'    : [0.8, 0.5, 0.1],\n",
    "                  'regressor__regressor__n_estimators' : [10, 100, 500],\n",
    "                  'regressor__regressor__max_depth'    : [6,8]\n",
    "                 }\n",
    "for sc in metric:\n",
    "  grid_search = GridSearchCV(estimator = clf_gbr, param_grid=param_grid, cv=10, scoring=sc, verbose=1, n_jobs=-1)\n",
    "  grid_result = grid_search.fit(X_train, y_train['GHGEmissions(MetricTonsCO2e)'])\n",
    "  Sc.append(round(grid_result.best_score_,3))\n",
    "  print(sc,':' , grid_result.best_score_)\n",
    "  print('Best Params: ', grid_result.best_params_)\n",
    "mtf = grid_result.cv_results_['mean_fit_time'].mean()*10*len(grid_result.cv_results_['mean_fit_time'])\n",
    "Sc.append(round(mtf,3))\n",
    "Sc.append(round(grid_result.cv_results_['mean_fit_time'].mean(),3))\n",
    "print('mean_fit_time:', mtf)\n",
    "clc_sc=pd.concat([clc_sc,pd.DataFrame({'GBR':Sc},index=index)],axis=1)"
   ]
  },
  {
   "cell_type": "markdown",
   "metadata": {
    "id": "h24DTbZD4kU2"
   },
   "source": [
    "### <font id=\"section_23\"> 2.3 Comparaison des résultats"
   ]
  },
  {
   "cell_type": "markdown",
   "metadata": {
    "id": "w9zKwmXyhJ2I"
   },
   "source": [
    "Sur les divers modèles testés, le modèle linéaire Ridge et le SVR retournent des métriques moins bonnes ou moyennes.  Les algorithmes XGBoost et RandomForestRegressor offrent des performances meilleurs que les modèles linéaires. La qualité des prédictions avec un meilleur score pour XGBoost pour les deux métriques $R_2=0.752$ et RMSE=274.715.\n",
    "L'indicateur MFT_total est le temps moyen en second d'ajustement de tous les fits de la grille grille.\n",
    "MFT le temps moyen d'un seul fit."
   ]
  },
  {
   "cell_type": "code",
   "execution_count": null,
   "metadata": {
    "colab": {
     "base_uri": "https://localhost:8080/",
     "height": 300
    },
    "id": "T8Zr7AfDGrLE",
    "outputId": "1df1ab35-2d05-4d35-8b51-e13c6d0982f8"
   },
   "outputs": [
    {
     "data": {
      "text/html": [
       "\n",
       "  <div id=\"df-4ae5895e-0b4c-4378-a220-157c660bbc47\">\n",
       "    <div class=\"colab-df-container\">\n",
       "      <div>\n",
       "<style scoped>\n",
       "    .dataframe tbody tr th:only-of-type {\n",
       "        vertical-align: middle;\n",
       "    }\n",
       "\n",
       "    .dataframe tbody tr th {\n",
       "        vertical-align: top;\n",
       "    }\n",
       "\n",
       "    .dataframe thead th {\n",
       "        text-align: right;\n",
       "    }\n",
       "</style>\n",
       "<table border=\"1\" class=\"dataframe\">\n",
       "  <thead>\n",
       "    <tr style=\"text-align: right;\">\n",
       "      <th></th>\n",
       "      <th>R2</th>\n",
       "      <th>RMSE</th>\n",
       "      <th>MFT_total(s)</th>\n",
       "      <th>MFT(s)</th>\n",
       "    </tr>\n",
       "  </thead>\n",
       "  <tbody>\n",
       "    <tr>\n",
       "      <th>Dummy</th>\n",
       "      <td>-0.0362</td>\n",
       "      <td>570.437</td>\n",
       "      <td>-</td>\n",
       "      <td>0.023</td>\n",
       "    </tr>\n",
       "    <tr>\n",
       "      <th>MLR</th>\n",
       "      <td>-845.51</td>\n",
       "      <td>7729.42</td>\n",
       "      <td>2.234</td>\n",
       "      <td>0.112</td>\n",
       "    </tr>\n",
       "    <tr>\n",
       "      <th>Ridge</th>\n",
       "      <td>0.489</td>\n",
       "      <td>344.834</td>\n",
       "      <td>42.636</td>\n",
       "      <td>0.035</td>\n",
       "    </tr>\n",
       "    <tr>\n",
       "      <th>Lasso</th>\n",
       "      <td>-0.061</td>\n",
       "      <td>604.74</td>\n",
       "      <td>79.69</td>\n",
       "      <td>0.033</td>\n",
       "    </tr>\n",
       "    <tr>\n",
       "      <th>El_Net</th>\n",
       "      <td>-0.05</td>\n",
       "      <td>602.606</td>\n",
       "      <td>177.352</td>\n",
       "      <td>0.042</td>\n",
       "    </tr>\n",
       "    <tr>\n",
       "      <th>SVR</th>\n",
       "      <td>0.516</td>\n",
       "      <td>360.005</td>\n",
       "      <td>275.948</td>\n",
       "      <td>0.767</td>\n",
       "    </tr>\n",
       "    <tr>\n",
       "      <th>RFR</th>\n",
       "      <td>0.662044</td>\n",
       "      <td>332.149251</td>\n",
       "      <td>1010.347</td>\n",
       "      <td>5.613</td>\n",
       "    </tr>\n",
       "    <tr>\n",
       "      <th>GBR</th>\n",
       "      <td>0.752</td>\n",
       "      <td>274.715</td>\n",
       "      <td>945.001</td>\n",
       "      <td>2.625</td>\n",
       "    </tr>\n",
       "  </tbody>\n",
       "</table>\n",
       "</div>\n",
       "      <button class=\"colab-df-convert\" onclick=\"convertToInteractive('df-4ae5895e-0b4c-4378-a220-157c660bbc47')\"\n",
       "              title=\"Convert this dataframe to an interactive table.\"\n",
       "              style=\"display:none;\">\n",
       "        \n",
       "  <svg xmlns=\"http://www.w3.org/2000/svg\" height=\"24px\"viewBox=\"0 0 24 24\"\n",
       "       width=\"24px\">\n",
       "    <path d=\"M0 0h24v24H0V0z\" fill=\"none\"/>\n",
       "    <path d=\"M18.56 5.44l.94 2.06.94-2.06 2.06-.94-2.06-.94-.94-2.06-.94 2.06-2.06.94zm-11 1L8.5 8.5l.94-2.06 2.06-.94-2.06-.94L8.5 2.5l-.94 2.06-2.06.94zm10 10l.94 2.06.94-2.06 2.06-.94-2.06-.94-.94-2.06-.94 2.06-2.06.94z\"/><path d=\"M17.41 7.96l-1.37-1.37c-.4-.4-.92-.59-1.43-.59-.52 0-1.04.2-1.43.59L10.3 9.45l-7.72 7.72c-.78.78-.78 2.05 0 2.83L4 21.41c.39.39.9.59 1.41.59.51 0 1.02-.2 1.41-.59l7.78-7.78 2.81-2.81c.8-.78.8-2.07 0-2.86zM5.41 20L4 18.59l7.72-7.72 1.47 1.35L5.41 20z\"/>\n",
       "  </svg>\n",
       "      </button>\n",
       "      \n",
       "  <style>\n",
       "    .colab-df-container {\n",
       "      display:flex;\n",
       "      flex-wrap:wrap;\n",
       "      gap: 12px;\n",
       "    }\n",
       "\n",
       "    .colab-df-convert {\n",
       "      background-color: #E8F0FE;\n",
       "      border: none;\n",
       "      border-radius: 50%;\n",
       "      cursor: pointer;\n",
       "      display: none;\n",
       "      fill: #1967D2;\n",
       "      height: 32px;\n",
       "      padding: 0 0 0 0;\n",
       "      width: 32px;\n",
       "    }\n",
       "\n",
       "    .colab-df-convert:hover {\n",
       "      background-color: #E2EBFA;\n",
       "      box-shadow: 0px 1px 2px rgba(60, 64, 67, 0.3), 0px 1px 3px 1px rgba(60, 64, 67, 0.15);\n",
       "      fill: #174EA6;\n",
       "    }\n",
       "\n",
       "    [theme=dark] .colab-df-convert {\n",
       "      background-color: #3B4455;\n",
       "      fill: #D2E3FC;\n",
       "    }\n",
       "\n",
       "    [theme=dark] .colab-df-convert:hover {\n",
       "      background-color: #434B5C;\n",
       "      box-shadow: 0px 1px 3px 1px rgba(0, 0, 0, 0.15);\n",
       "      filter: drop-shadow(0px 1px 2px rgba(0, 0, 0, 0.3));\n",
       "      fill: #FFFFFF;\n",
       "    }\n",
       "  </style>\n",
       "\n",
       "      <script>\n",
       "        const buttonEl =\n",
       "          document.querySelector('#df-4ae5895e-0b4c-4378-a220-157c660bbc47 button.colab-df-convert');\n",
       "        buttonEl.style.display =\n",
       "          google.colab.kernel.accessAllowed ? 'block' : 'none';\n",
       "\n",
       "        async function convertToInteractive(key) {\n",
       "          const element = document.querySelector('#df-4ae5895e-0b4c-4378-a220-157c660bbc47');\n",
       "          const dataTable =\n",
       "            await google.colab.kernel.invokeFunction('convertToInteractive',\n",
       "                                                     [key], {});\n",
       "          if (!dataTable) return;\n",
       "\n",
       "          const docLinkHtml = 'Like what you see? Visit the ' +\n",
       "            '<a target=\"_blank\" href=https://colab.research.google.com/notebooks/data_table.ipynb>data table notebook</a>'\n",
       "            + ' to learn more about interactive tables.';\n",
       "          element.innerHTML = '';\n",
       "          dataTable['output_type'] = 'display_data';\n",
       "          await google.colab.output.renderOutput(dataTable, element);\n",
       "          const docLink = document.createElement('div');\n",
       "          docLink.innerHTML = docLinkHtml;\n",
       "          element.appendChild(docLink);\n",
       "        }\n",
       "      </script>\n",
       "    </div>\n",
       "  </div>\n",
       "  "
      ],
      "text/plain": [
       "              R2        RMSE MFT_total(s) MFT(s)\n",
       "Dummy    -0.0362     570.437            -  0.023\n",
       "MLR      -845.51     7729.42        2.234  0.112\n",
       "Ridge      0.489     344.834       42.636  0.035\n",
       "Lasso     -0.061      604.74        79.69  0.033\n",
       "El_Net     -0.05     602.606      177.352  0.042\n",
       "SVR        0.516     360.005      275.948  0.767\n",
       "RFR     0.662044  332.149251     1010.347  5.613\n",
       "GBR        0.752     274.715      945.001  2.625"
      ]
     },
     "execution_count": 27,
     "metadata": {},
     "output_type": "execute_result"
    }
   ],
   "source": [
    "# we change the negative RMSE to positive RMSE\n",
    "clc_sc.loc['RMSE',clc_sc.columns]=clc_sc.loc['RMSE',clc_sc.columns].astype(str).astype('float64')\n",
    "clc_sc.loc['RMSE',clc_sc.columns]=-clc_sc.loc['RMSE']\n",
    "clc_sc.T"
   ]
  },
  {
   "cell_type": "markdown",
   "metadata": {
    "id": "dJqSHBO5Bj-i"
   },
   "source": [
    "### <font id=\"section_24\"> 2.4 Cross validation pour RFR et GBR"
   ]
  },
  {
   "cell_type": "code",
   "execution_count": null,
   "metadata": {
    "colab": {
     "base_uri": "https://localhost:8080/",
     "height": 300
    },
    "id": "PLjaF04Pr09Z",
    "outputId": "72755ad8-319d-4a19-c4e3-a9ad62b51cfa"
   },
   "outputs": [
    {
     "data": {
      "text/html": [
       "\n",
       "  <div id=\"df-18f9421f-26d7-4f9c-ba54-3e49464a9e23\">\n",
       "    <div class=\"colab-df-container\">\n",
       "      <div>\n",
       "<style scoped>\n",
       "    .dataframe tbody tr th:only-of-type {\n",
       "        vertical-align: middle;\n",
       "    }\n",
       "\n",
       "    .dataframe tbody tr th {\n",
       "        vertical-align: top;\n",
       "    }\n",
       "\n",
       "    .dataframe thead th {\n",
       "        text-align: right;\n",
       "    }\n",
       "</style>\n",
       "<table border=\"1\" class=\"dataframe\">\n",
       "  <thead>\n",
       "    <tr style=\"text-align: right;\">\n",
       "      <th></th>\n",
       "      <th>RMSE</th>\n",
       "      <th>MAE</th>\n",
       "      <th>R2</th>\n",
       "      <th>fit_time</th>\n",
       "    </tr>\n",
       "  </thead>\n",
       "  <tbody>\n",
       "    <tr>\n",
       "      <th>count</th>\n",
       "      <td>30.000000</td>\n",
       "      <td>30.000000</td>\n",
       "      <td>30.000000</td>\n",
       "      <td>30.000000</td>\n",
       "    </tr>\n",
       "    <tr>\n",
       "      <th>mean</th>\n",
       "      <td>283.041872</td>\n",
       "      <td>81.139415</td>\n",
       "      <td>0.619921</td>\n",
       "      <td>20.012624</td>\n",
       "    </tr>\n",
       "    <tr>\n",
       "      <th>std</th>\n",
       "      <td>301.708938</td>\n",
       "      <td>37.623467</td>\n",
       "      <td>0.236862</td>\n",
       "      <td>0.147772</td>\n",
       "    </tr>\n",
       "    <tr>\n",
       "      <th>min</th>\n",
       "      <td>60.663135</td>\n",
       "      <td>37.922371</td>\n",
       "      <td>-0.067241</td>\n",
       "      <td>19.872632</td>\n",
       "    </tr>\n",
       "    <tr>\n",
       "      <th>25%</th>\n",
       "      <td>146.353006</td>\n",
       "      <td>55.780867</td>\n",
       "      <td>0.494441</td>\n",
       "      <td>19.944520</td>\n",
       "    </tr>\n",
       "    <tr>\n",
       "      <th>50%</th>\n",
       "      <td>222.104312</td>\n",
       "      <td>69.469212</td>\n",
       "      <td>0.641687</td>\n",
       "      <td>19.989592</td>\n",
       "    </tr>\n",
       "    <tr>\n",
       "      <th>75%</th>\n",
       "      <td>297.168261</td>\n",
       "      <td>94.928345</td>\n",
       "      <td>0.803117</td>\n",
       "      <td>20.014556</td>\n",
       "    </tr>\n",
       "    <tr>\n",
       "      <th>max</th>\n",
       "      <td>1729.252280</td>\n",
       "      <td>226.719652</td>\n",
       "      <td>0.937298</td>\n",
       "      <td>20.540381</td>\n",
       "    </tr>\n",
       "  </tbody>\n",
       "</table>\n",
       "</div>\n",
       "      <button class=\"colab-df-convert\" onclick=\"convertToInteractive('df-18f9421f-26d7-4f9c-ba54-3e49464a9e23')\"\n",
       "              title=\"Convert this dataframe to an interactive table.\"\n",
       "              style=\"display:none;\">\n",
       "        \n",
       "  <svg xmlns=\"http://www.w3.org/2000/svg\" height=\"24px\"viewBox=\"0 0 24 24\"\n",
       "       width=\"24px\">\n",
       "    <path d=\"M0 0h24v24H0V0z\" fill=\"none\"/>\n",
       "    <path d=\"M18.56 5.44l.94 2.06.94-2.06 2.06-.94-2.06-.94-.94-2.06-.94 2.06-2.06.94zm-11 1L8.5 8.5l.94-2.06 2.06-.94-2.06-.94L8.5 2.5l-.94 2.06-2.06.94zm10 10l.94 2.06.94-2.06 2.06-.94-2.06-.94-.94-2.06-.94 2.06-2.06.94z\"/><path d=\"M17.41 7.96l-1.37-1.37c-.4-.4-.92-.59-1.43-.59-.52 0-1.04.2-1.43.59L10.3 9.45l-7.72 7.72c-.78.78-.78 2.05 0 2.83L4 21.41c.39.39.9.59 1.41.59.51 0 1.02-.2 1.41-.59l7.78-7.78 2.81-2.81c.8-.78.8-2.07 0-2.86zM5.41 20L4 18.59l7.72-7.72 1.47 1.35L5.41 20z\"/>\n",
       "  </svg>\n",
       "      </button>\n",
       "      \n",
       "  <style>\n",
       "    .colab-df-container {\n",
       "      display:flex;\n",
       "      flex-wrap:wrap;\n",
       "      gap: 12px;\n",
       "    }\n",
       "\n",
       "    .colab-df-convert {\n",
       "      background-color: #E8F0FE;\n",
       "      border: none;\n",
       "      border-radius: 50%;\n",
       "      cursor: pointer;\n",
       "      display: none;\n",
       "      fill: #1967D2;\n",
       "      height: 32px;\n",
       "      padding: 0 0 0 0;\n",
       "      width: 32px;\n",
       "    }\n",
       "\n",
       "    .colab-df-convert:hover {\n",
       "      background-color: #E2EBFA;\n",
       "      box-shadow: 0px 1px 2px rgba(60, 64, 67, 0.3), 0px 1px 3px 1px rgba(60, 64, 67, 0.15);\n",
       "      fill: #174EA6;\n",
       "    }\n",
       "\n",
       "    [theme=dark] .colab-df-convert {\n",
       "      background-color: #3B4455;\n",
       "      fill: #D2E3FC;\n",
       "    }\n",
       "\n",
       "    [theme=dark] .colab-df-convert:hover {\n",
       "      background-color: #434B5C;\n",
       "      box-shadow: 0px 1px 3px 1px rgba(0, 0, 0, 0.15);\n",
       "      filter: drop-shadow(0px 1px 2px rgba(0, 0, 0, 0.3));\n",
       "      fill: #FFFFFF;\n",
       "    }\n",
       "  </style>\n",
       "\n",
       "      <script>\n",
       "        const buttonEl =\n",
       "          document.querySelector('#df-18f9421f-26d7-4f9c-ba54-3e49464a9e23 button.colab-df-convert');\n",
       "        buttonEl.style.display =\n",
       "          google.colab.kernel.accessAllowed ? 'block' : 'none';\n",
       "\n",
       "        async function convertToInteractive(key) {\n",
       "          const element = document.querySelector('#df-18f9421f-26d7-4f9c-ba54-3e49464a9e23');\n",
       "          const dataTable =\n",
       "            await google.colab.kernel.invokeFunction('convertToInteractive',\n",
       "                                                     [key], {});\n",
       "          if (!dataTable) return;\n",
       "\n",
       "          const docLinkHtml = 'Like what you see? Visit the ' +\n",
       "            '<a target=\"_blank\" href=https://colab.research.google.com/notebooks/data_table.ipynb>data table notebook</a>'\n",
       "            + ' to learn more about interactive tables.';\n",
       "          element.innerHTML = '';\n",
       "          dataTable['output_type'] = 'display_data';\n",
       "          await google.colab.output.renderOutput(dataTable, element);\n",
       "          const docLink = document.createElement('div');\n",
       "          docLink.innerHTML = docLinkHtml;\n",
       "          element.appendChild(docLink);\n",
       "        }\n",
       "      </script>\n",
       "    </div>\n",
       "  </div>\n",
       "  "
      ],
      "text/plain": [
       "              RMSE         MAE         R2   fit_time\n",
       "count    30.000000   30.000000  30.000000  30.000000\n",
       "mean    283.041872   81.139415   0.619921  20.012624\n",
       "std     301.708938   37.623467   0.236862   0.147772\n",
       "min      60.663135   37.922371  -0.067241  19.872632\n",
       "25%     146.353006   55.780867   0.494441  19.944520\n",
       "50%     222.104312   69.469212   0.641687  19.989592\n",
       "75%     297.168261   94.928345   0.803117  20.014556\n",
       "max    1729.252280  226.719652   0.937298  20.540381"
      ]
     },
     "execution_count": 30,
     "metadata": {},
     "output_type": "execute_result"
    }
   ],
   "source": [
    "RFR =RandomForestRegressor( max_features='auto',min_samples_leaf=1, n_estimators=100) \n",
    "clf_rf = estimator_pipeline(RFR, C_transf)\n",
    "scores = cross_validate(clf_rf, X_train, y_train['GHGEmissions(MetricTonsCO2e)'], cv=30, \n",
    "                        scoring=['r2','neg_root_mean_squared_error', 'neg_mean_absolute_error'])\n",
    "dr = pd.DataFrame(scores)\n",
    "dr[[ 'test_neg_root_mean_squared_error','test_neg_mean_absolute_error']] =-dr[[ 'test_neg_root_mean_squared_error','test_neg_mean_absolute_error']]\n",
    "d_rf=dr[[ 'test_neg_root_mean_squared_error','test_neg_mean_absolute_error']+['test_r2','fit_time']]\n",
    "d_rf.columns = ['RMSE', 'MAE', 'R2', 'fit_time']\n",
    "d_rf.describe()\n"
   ]
  },
  {
   "cell_type": "code",
   "execution_count": null,
   "metadata": {
    "colab": {
     "base_uri": "https://localhost:8080/",
     "height": 300
    },
    "id": "l05XpYPb2iNm",
    "outputId": "21715cc7-040e-44b4-9ec1-640c1867e10a"
   },
   "outputs": [
    {
     "data": {
      "text/html": [
       "\n",
       "  <div id=\"df-563c0130-d58a-4336-b304-bbc64c0e90f7\">\n",
       "    <div class=\"colab-df-container\">\n",
       "      <div>\n",
       "<style scoped>\n",
       "    .dataframe tbody tr th:only-of-type {\n",
       "        vertical-align: middle;\n",
       "    }\n",
       "\n",
       "    .dataframe tbody tr th {\n",
       "        vertical-align: top;\n",
       "    }\n",
       "\n",
       "    .dataframe thead th {\n",
       "        text-align: right;\n",
       "    }\n",
       "</style>\n",
       "<table border=\"1\" class=\"dataframe\">\n",
       "  <thead>\n",
       "    <tr style=\"text-align: right;\">\n",
       "      <th></th>\n",
       "      <th>RMSE</th>\n",
       "      <th>MAE</th>\n",
       "      <th>R2</th>\n",
       "      <th>fit_time</th>\n",
       "    </tr>\n",
       "  </thead>\n",
       "  <tbody>\n",
       "    <tr>\n",
       "      <th>count</th>\n",
       "      <td>30.000000</td>\n",
       "      <td>30.000000</td>\n",
       "      <td>30.000000</td>\n",
       "      <td>30.000000</td>\n",
       "    </tr>\n",
       "    <tr>\n",
       "      <th>mean</th>\n",
       "      <td>222.998190</td>\n",
       "      <td>65.998729</td>\n",
       "      <td>0.735139</td>\n",
       "      <td>8.001578</td>\n",
       "    </tr>\n",
       "    <tr>\n",
       "      <th>std</th>\n",
       "      <td>295.760223</td>\n",
       "      <td>35.412675</td>\n",
       "      <td>0.259578</td>\n",
       "      <td>0.042536</td>\n",
       "    </tr>\n",
       "    <tr>\n",
       "      <th>min</th>\n",
       "      <td>52.408038</td>\n",
       "      <td>29.882572</td>\n",
       "      <td>-0.297648</td>\n",
       "      <td>7.908576</td>\n",
       "    </tr>\n",
       "    <tr>\n",
       "      <th>25%</th>\n",
       "      <td>98.346046</td>\n",
       "      <td>45.639379</td>\n",
       "      <td>0.685379</td>\n",
       "      <td>7.975183</td>\n",
       "    </tr>\n",
       "    <tr>\n",
       "      <th>50%</th>\n",
       "      <td>146.280828</td>\n",
       "      <td>54.807048</td>\n",
       "      <td>0.780638</td>\n",
       "      <td>8.006345</td>\n",
       "    </tr>\n",
       "    <tr>\n",
       "      <th>75%</th>\n",
       "      <td>210.396105</td>\n",
       "      <td>71.232346</td>\n",
       "      <td>0.888308</td>\n",
       "      <td>8.037770</td>\n",
       "    </tr>\n",
       "    <tr>\n",
       "      <th>max</th>\n",
       "      <td>1667.389037</td>\n",
       "      <td>213.305112</td>\n",
       "      <td>0.991267</td>\n",
       "      <td>8.090153</td>\n",
       "    </tr>\n",
       "  </tbody>\n",
       "</table>\n",
       "</div>\n",
       "      <button class=\"colab-df-convert\" onclick=\"convertToInteractive('df-563c0130-d58a-4336-b304-bbc64c0e90f7')\"\n",
       "              title=\"Convert this dataframe to an interactive table.\"\n",
       "              style=\"display:none;\">\n",
       "        \n",
       "  <svg xmlns=\"http://www.w3.org/2000/svg\" height=\"24px\"viewBox=\"0 0 24 24\"\n",
       "       width=\"24px\">\n",
       "    <path d=\"M0 0h24v24H0V0z\" fill=\"none\"/>\n",
       "    <path d=\"M18.56 5.44l.94 2.06.94-2.06 2.06-.94-2.06-.94-.94-2.06-.94 2.06-2.06.94zm-11 1L8.5 8.5l.94-2.06 2.06-.94-2.06-.94L8.5 2.5l-.94 2.06-2.06.94zm10 10l.94 2.06.94-2.06 2.06-.94-2.06-.94-.94-2.06-.94 2.06-2.06.94z\"/><path d=\"M17.41 7.96l-1.37-1.37c-.4-.4-.92-.59-1.43-.59-.52 0-1.04.2-1.43.59L10.3 9.45l-7.72 7.72c-.78.78-.78 2.05 0 2.83L4 21.41c.39.39.9.59 1.41.59.51 0 1.02-.2 1.41-.59l7.78-7.78 2.81-2.81c.8-.78.8-2.07 0-2.86zM5.41 20L4 18.59l7.72-7.72 1.47 1.35L5.41 20z\"/>\n",
       "  </svg>\n",
       "      </button>\n",
       "      \n",
       "  <style>\n",
       "    .colab-df-container {\n",
       "      display:flex;\n",
       "      flex-wrap:wrap;\n",
       "      gap: 12px;\n",
       "    }\n",
       "\n",
       "    .colab-df-convert {\n",
       "      background-color: #E8F0FE;\n",
       "      border: none;\n",
       "      border-radius: 50%;\n",
       "      cursor: pointer;\n",
       "      display: none;\n",
       "      fill: #1967D2;\n",
       "      height: 32px;\n",
       "      padding: 0 0 0 0;\n",
       "      width: 32px;\n",
       "    }\n",
       "\n",
       "    .colab-df-convert:hover {\n",
       "      background-color: #E2EBFA;\n",
       "      box-shadow: 0px 1px 2px rgba(60, 64, 67, 0.3), 0px 1px 3px 1px rgba(60, 64, 67, 0.15);\n",
       "      fill: #174EA6;\n",
       "    }\n",
       "\n",
       "    [theme=dark] .colab-df-convert {\n",
       "      background-color: #3B4455;\n",
       "      fill: #D2E3FC;\n",
       "    }\n",
       "\n",
       "    [theme=dark] .colab-df-convert:hover {\n",
       "      background-color: #434B5C;\n",
       "      box-shadow: 0px 1px 3px 1px rgba(0, 0, 0, 0.15);\n",
       "      filter: drop-shadow(0px 1px 2px rgba(0, 0, 0, 0.3));\n",
       "      fill: #FFFFFF;\n",
       "    }\n",
       "  </style>\n",
       "\n",
       "      <script>\n",
       "        const buttonEl =\n",
       "          document.querySelector('#df-563c0130-d58a-4336-b304-bbc64c0e90f7 button.colab-df-convert');\n",
       "        buttonEl.style.display =\n",
       "          google.colab.kernel.accessAllowed ? 'block' : 'none';\n",
       "\n",
       "        async function convertToInteractive(key) {\n",
       "          const element = document.querySelector('#df-563c0130-d58a-4336-b304-bbc64c0e90f7');\n",
       "          const dataTable =\n",
       "            await google.colab.kernel.invokeFunction('convertToInteractive',\n",
       "                                                     [key], {});\n",
       "          if (!dataTable) return;\n",
       "\n",
       "          const docLinkHtml = 'Like what you see? Visit the ' +\n",
       "            '<a target=\"_blank\" href=https://colab.research.google.com/notebooks/data_table.ipynb>data table notebook</a>'\n",
       "            + ' to learn more about interactive tables.';\n",
       "          element.innerHTML = '';\n",
       "          dataTable['output_type'] = 'display_data';\n",
       "          await google.colab.output.renderOutput(dataTable, element);\n",
       "          const docLink = document.createElement('div');\n",
       "          docLink.innerHTML = docLinkHtml;\n",
       "          element.appendChild(docLink);\n",
       "        }\n",
       "      </script>\n",
       "    </div>\n",
       "  </div>\n",
       "  "
      ],
      "text/plain": [
       "              RMSE         MAE         R2   fit_time\n",
       "count    30.000000   30.000000  30.000000  30.000000\n",
       "mean    222.998190   65.998729   0.735139   8.001578\n",
       "std     295.760223   35.412675   0.259578   0.042536\n",
       "min      52.408038   29.882572  -0.297648   7.908576\n",
       "25%      98.346046   45.639379   0.685379   7.975183\n",
       "50%     146.280828   54.807048   0.780638   8.006345\n",
       "75%     210.396105   71.232346   0.888308   8.037770\n",
       "max    1667.389037  213.305112   0.991267   8.090153"
      ]
     },
     "execution_count": 31,
     "metadata": {},
     "output_type": "execute_result"
    }
   ],
   "source": [
    "clf_gbr = estimator_pipeline(GradientBoostingRegressor(learning_rate=0.03,max_depth=8,n_estimators= 500,subsample= 0.8), C_transf)\n",
    "scores = cross_validate(clf_gbr, X_train, y_train['GHGEmissions(MetricTonsCO2e)'], cv=30, \n",
    "                        scoring=['r2','neg_root_mean_squared_error', 'neg_mean_absolute_error'])\n",
    "dg = pd.DataFrame(scores)\n",
    "dg[[ 'test_neg_root_mean_squared_error','test_neg_mean_absolute_error']] =-dg[[ 'test_neg_root_mean_squared_error','test_neg_mean_absolute_error']]\n",
    "d_gbr=dg[[ 'test_neg_root_mean_squared_error','test_neg_mean_absolute_error']+['test_r2','fit_time']]\n",
    "d_gbr.columns = ['RMSE', 'MAE', 'R2', 'fit_time']\n",
    "d_gbr.describe()\n"
   ]
  },
  {
   "cell_type": "code",
   "execution_count": null,
   "metadata": {
    "colab": {
     "base_uri": "https://localhost:8080/",
     "height": 297
    },
    "id": "QOe6xl3w-Mt8",
    "outputId": "38690165-2c52-4168-d46f-da8602eb63e7"
   },
   "outputs": [
    {
     "data": {
      "image/png": "[encoded data removed]",
      "text/plain": [
       "<Figure size 1080x288 with 4 Axes>"
      ]
     },
     "metadata": {
      "needs_background": "light"
     },
     "output_type": "display_data"
    }
   ],
   "source": [
    "fig, ax = plt.subplots(1, 4,figsize=(15,4))\n",
    "ax[0].boxplot([d_gbr['RMSE'],d_rf['RMSE']],patch_artist = True,\n",
    "                widths = [0.5, 0.5])\n",
    "ax[0].set_title(\" RMSE score  \")\n",
    "ax[0].set_xticklabels(['GBR', 'RFR']) \n",
    "ax[1].boxplot([d_gbr['MAE'],d_rf['MAE']],patch_artist = True,\n",
    "                widths = [0.5, 0.5])\n",
    "ax[1].set_title(\"MAE score\")\n",
    "ax[1].set_xticklabels( ['GBR', 'RFR']) \n",
    "ax[2].boxplot([d_gbr['R2'],d_rf['R2']],patch_artist = True,\n",
    "                 widths =[0.5, 0.5])\n",
    "ax[2].set_title(\"R2 score\")\n",
    "ax[2].set_xticklabels(['GBR', 'RFR']) \n",
    "ax[3].boxplot([d_gbr['fit_time'],d_rf['fit_time']],patch_artist = True,\n",
    "                 widths = [0.5, 0.5])\n",
    "ax[3].set_title(\"Time fit\")\n",
    "ax[3].set_xticklabels(['GBR', 'RFR']) \n",
    "fig.tight_layout()"
   ]
  },
  {
   "cell_type": "markdown",
   "metadata": {},
   "source": [
    "Les boîtes à moustaches des scores montrent que le Gradient Boosting est meilleur que Random Forest avec une RMSE et MAE la plus basse. Le temps d'entrainement du GBR est aussi moins  élevé que celui de RFR."
   ]
  },
  {
   "cell_type": "markdown",
   "metadata": {
    "id": "FXq7A0E78gf8"
   },
   "source": [
    "## <font id=\"section_3\"> 3. Comparaison des modèles pour l'énergie totale"
   ]
  },
  {
   "cell_type": "code",
   "execution_count": null,
   "metadata": {
    "colab": {
     "base_uri": "https://localhost:8080/"
    },
    "id": "SJ2hcytDNkED",
    "outputId": "cdb39661-9617-4433-a8e4-07ec389e217a"
   },
   "outputs": [
    {
     "name": "stdout",
     "output_type": "stream",
     "text": [
      "MAE (L1)       6201375.6023\n",
      "RMSE (L2)      19625997.1003\n",
      "Mediane-AE      1907418.4489\n",
      "R2 (CV)          -0.0596\n"
     ]
    }
   ],
   "source": [
    "import time\n",
    "start_time = time.time()\n",
    "dummy_t.fit(X_train,y_train['SiteEnergyUse(kBtu)'])\n",
    "t=time.time() - start_time\n",
    "model_accuracy(dummy_t.predict(X_test),y_test['SiteEnergyUse(kBtu)'])"
   ]
  },
  {
   "cell_type": "code",
   "execution_count": null,
   "metadata": {
    "id": "gkCarrfFOXcL"
   },
   "outputs": [],
   "source": [
    "index=['R2', 'RMSE','MFT_total(s)','MFT(s)']\n",
    "clc_sc =pd.DataFrame({'Dummy':np.array([-0.0596, -19625997.1003, '-', round(t,3)])},index=index)"
   ]
  },
  {
   "cell_type": "markdown",
   "metadata": {
    "id": "Y7DSdF6JCZ1z"
   },
   "source": [
    "### <font id=\"section_31\"> 3.1 Modèles de régression linéaires\n",
    "#### 3.1.1 Régression linéaire classique"
   ]
  },
  {
   "cell_type": "code",
   "execution_count": null,
   "metadata": {
    "colab": {
     "base_uri": "https://localhost:8080/"
    },
    "id": "TlKKtk16-IzB",
    "outputId": "7df8ff19-4791-4dbd-ec7e-d169bb0c31f0"
   },
   "outputs": [
    {
     "name": "stdout",
     "output_type": "stream",
     "text": [
      "Fitting 10 folds for each of 2 candidates, totalling 20 fits\n",
      "r2 : -899.7450894959462\n",
      "Best Params:  {'regressor__regressor__fit_intercept': False}\n",
      "Fitting 10 folds for each of 2 candidates, totalling 20 fits\n",
      "neg_root_mean_squared_error : -403466958.435556\n",
      "Best Params:  {'regressor__regressor__fit_intercept': False}\n",
      "mean_fit_time: 2.213578462600708\n"
     ]
    }
   ],
   "source": [
    "Sc=[]\n",
    "param_grid ={'regressor__regressor__fit_intercept':[False,True]}\n",
    "for sc in metric:\n",
    "  grid_search = GridSearchCV(estimator = clf_lm_t, param_grid=param_grid, cv=10, scoring=sc, verbose=1, n_jobs=-1)\n",
    "  grid_result = grid_search.fit(X_train, y_train['SiteEnergyUse(kBtu)'])\n",
    "  Sc.append(round(grid_result.best_score_,2))\n",
    "  print(sc,':' , grid_result.best_score_)\n",
    "  print('Best Params: ', grid_result.best_params_)\n",
    "mtf = grid_result.cv_results_['mean_fit_time'].mean()*10*len(grid_result.cv_results_['mean_fit_time'])\n",
    "Sc.append(round(mtf,3))\n",
    "Sc.append(round(grid_result.cv_results_['mean_fit_time'].mean(),3))\n",
    "print('mean_fit_time:', mtf)\n",
    "clc_sc=pd.concat([clc_sc,pd.DataFrame({'MLR':Sc},index=index)],axis=1)"
   ]
  },
  {
   "cell_type": "markdown",
   "metadata": {
    "id": "uGAnt0fN9GPQ"
   },
   "source": [
    "Il semble que le modèle linéaire ne converge pas bien, regardons le modèle Ridge:"
   ]
  },
  {
   "cell_type": "markdown",
   "metadata": {
    "id": "kakEnhrpChcs"
   },
   "source": [
    "#### 3.1.2 Régression Ridge"
   ]
  },
  {
   "cell_type": "code",
   "execution_count": null,
   "metadata": {
    "colab": {
     "base_uri": "https://localhost:8080/"
    },
    "id": "B35oaPRYEiWD",
    "outputId": "e6cff9a7-4d1c-4b67-90f8-fe91b0b2748d"
   },
   "outputs": [
    {
     "name": "stdout",
     "output_type": "stream",
     "text": [
      "Fitting 10 folds for each of 123 candidates, totalling 1230 fits\n",
      "r2 : 0.49989118323056764\n",
      "Best Params:  {'regressor__regressor__alpha': 15.000625000000001, 'regressor__regressor__tol': 0.1}\n",
      "Fitting 10 folds for each of 123 candidates, totalling 1230 fits\n",
      "neg_root_mean_squared_error : -12649539.006406795\n",
      "Best Params:  {'regressor__regressor__alpha': 15.000625000000001, 'regressor__regressor__tol': 0.1}\n",
      "mean_fit_time: 42.43781113624573\n"
     ]
    }
   ],
   "source": [
    "Sc=[]\n",
    "clf_ridge = estimator_pipeline(Ridge(), C_transf)\n",
    "param_grid = {'regressor__regressor__alpha':np.linspace(0.001,40,41),\n",
    "              'regressor__regressor__tol':[0.5,0.1,0.01]}\n",
    "for sc in metric:              \n",
    "  grid_search = GridSearchCV(estimator = clf_ridge, param_grid=param_grid, cv=10, scoring=sc, verbose=1, n_jobs=-1)\n",
    "  grid_result = grid_search.fit(X_train, y_train['SiteEnergyUse(kBtu)'])\n",
    "  Sc.append(round(grid_result.best_score_,3))\n",
    "  print(sc,':' , grid_result.best_score_)\n",
    "  print('Best Params: ', grid_result.best_params_)\n",
    "mtf = grid_result.cv_results_['mean_fit_time'].mean()*10*len(grid_result.cv_results_['mean_fit_time'])\n",
    "Sc.append(round(mtf,3))\n",
    "Sc.append(round(grid_result.cv_results_['mean_fit_time'].mean(),3))\n",
    "print('mean_fit_time:', mtf)\n",
    "clc_sc=pd.concat([clc_sc,pd.DataFrame({'Ridge':Sc},index=index)],axis=1)"
   ]
  },
  {
   "cell_type": "markdown",
   "metadata": {
    "id": "4Q6uXZ7ECuMD"
   },
   "source": [
    "#### 3.1.3 Régression Lasso"
   ]
  },
  {
   "cell_type": "code",
   "execution_count": null,
   "metadata": {
    "colab": {
     "base_uri": "https://localhost:8080/"
    },
    "id": "qzGAXSizMK4P",
    "outputId": "1d3510ca-5bf3-44eb-fff9-7cbed2b287e7"
   },
   "outputs": [
    {
     "name": "stdout",
     "output_type": "stream",
     "text": [
      "Fitting 10 folds for each of 243 candidates, totalling 2430 fits\n",
      "r2 : -0.08511040109670195\n",
      "Best Params:  {'regressor__regressor__alpha': 0.5009875, 'regressor__regressor__tol': 0.1}\n",
      "Fitting 10 folds for each of 243 candidates, totalling 2430 fits\n",
      "neg_root_mean_squared_error : -19860890.263098825\n",
      "Best Params:  {'regressor__regressor__alpha': 0.5009875, 'regressor__regressor__tol': 0.1}\n",
      "mean_fit_time: 80.68045377731323\n"
     ]
    }
   ],
   "source": [
    "Sc=[]\n",
    "clf_lasso = estimator_pipeline(Lasso(), C_transf)\n",
    "param_grid = {'regressor__regressor__alpha':np.linspace(0.001,40,81),\n",
    "              'regressor__regressor__tol':[0.1,0.05,0.001]}\n",
    "for sc in metric:              \n",
    "  grid_search = GridSearchCV(estimator = clf_lasso, param_grid=param_grid, cv=10, scoring=sc, verbose=1, n_jobs=-1)\n",
    "  grid_result = grid_search.fit(X_train, y_train['SiteEnergyUse(kBtu)'])\n",
    "  Sc.append(round(grid_result.best_score_,3))\n",
    "  print(sc,':' , grid_result.best_score_)\n",
    "  print('Best Params: ', grid_result.best_params_)\n",
    "mtf = grid_result.cv_results_['mean_fit_time'].mean()*10*len(grid_result.cv_results_['mean_fit_time'])\n",
    "Sc.append(round(mtf,3))\n",
    "Sc.append(round(grid_result.cv_results_['mean_fit_time'].mean(),3))\n",
    "print('mean_fit_time:', mtf)\n",
    "clc_sc=pd.concat([clc_sc,pd.DataFrame({'Lasso':Sc},index=index)],axis=1)"
   ]
  },
  {
   "cell_type": "markdown",
   "metadata": {
    "id": "sEKJhaFsCxUi"
   },
   "source": [
    "#### 3.1.4 Régression ElasticNet"
   ]
  },
  {
   "cell_type": "code",
   "execution_count": null,
   "metadata": {
    "colab": {
     "base_uri": "https://localhost:8080/"
    },
    "id": "DbviYNyiM9Gb",
    "outputId": "2a758042-f2a1-4721-a92c-8f273e7b1ad0"
   },
   "outputs": [
    {
     "name": "stdout",
     "output_type": "stream",
     "text": [
      "Fitting 10 folds for each of 420 candidates, totalling 4200 fits\n",
      "r2 : -0.06151388727922502\n",
      "Best Params:  {'regressor__regressor__alpha': 1.0009499999999998, 'regressor__regressor__l1_ratio': 1e-12, 'regressor__regressor__tol': 0.1}\n",
      "Fitting 10 folds for each of 420 candidates, totalling 4200 fits\n",
      "neg_root_mean_squared_error : -19689442.758859556\n",
      "Best Params:  {'regressor__regressor__alpha': 1.0009499999999998, 'regressor__regressor__l1_ratio': 1e-12, 'regressor__regressor__tol': 0.1}\n",
      "mean_fit_time: 183.77951002120975\n"
     ]
    }
   ],
   "source": [
    "Sc=[]\n",
    "clf_el_net = estimator_pipeline(ElasticNet(), C_transf)\n",
    "param_grid = {'regressor__regressor__alpha':np.linspace(0.001,20,21),\n",
    "              'regressor__regressor__l1_ratio':np.linspace(1e-12,1,10),\n",
    "              'regressor__regressor__tol':[0.1,0.01]}\n",
    "for sc in metric:\n",
    "  grid_search = GridSearchCV(estimator = clf_el_net, param_grid=param_grid, cv=10, scoring=sc, verbose=1, n_jobs=-1)\n",
    "  grid_result = grid_search.fit(X_train, y_train['SiteEnergyUse(kBtu)'])\n",
    "  Sc.append(round(grid_result.best_score_,3))\n",
    "  print(sc,':' , grid_result.best_score_)\n",
    "  print('Best Params: ', grid_result.best_params_)\n",
    "mtf = grid_result.cv_results_['mean_fit_time'].mean()*10*len(grid_result.cv_results_['mean_fit_time'])\n",
    "Sc.append(round(mtf,3))\n",
    "Sc.append(round(grid_result.cv_results_['mean_fit_time'].mean(),3))\n",
    "print('mean_fit_time:', mtf)\n",
    "clc_sc=pd.concat([clc_sc,pd.DataFrame({'El_Net':Sc},index=index)],axis=1)"
   ]
  },
  {
   "cell_type": "markdown",
   "metadata": {
    "id": "zv6NnvYYRp12"
   },
   "source": [
    "### <font id=\"section_32\"> 3.2 Modèle non-linéaires \n",
    " #### 3.2.1 Support vector Regressor"
   ]
  },
  {
   "cell_type": "code",
   "execution_count": null,
   "metadata": {
    "colab": {
     "base_uri": "https://localhost:8080/"
    },
    "id": "tn5Yi2RBNKMa",
    "outputId": "b32b314f-5da8-41b2-cd6a-9ffa0b621bd7"
   },
   "outputs": [
    {
     "name": "stdout",
     "output_type": "stream",
     "text": [
      "Fitting 10 folds for each of 36 candidates, totalling 360 fits\n",
      "r2 : 0.5771641249236052\n",
      "Best Params:  {'regressor__regressor__C': 1, 'regressor__regressor__epsilon': 0.01, 'regressor__regressor__gamma': 0.1, 'regressor__regressor__kernel': 'rbf'}\n",
      "Fitting 10 folds for each of 36 candidates, totalling 360 fits\n",
      "neg_root_mean_squared_error : -12417403.852248903\n",
      "Best Params:  {'regressor__regressor__C': 1, 'regressor__regressor__epsilon': 0.01, 'regressor__regressor__gamma': 0.1, 'regressor__regressor__kernel': 'rbf'}\n",
      "mean_fit_time: 278.8830151557922\n"
     ]
    }
   ],
   "source": [
    "Sc=[]\n",
    "clf_svr = estimator_pipeline(SVR(), C_transf)\n",
    "param_grid = {'regressor__regressor__kernel' : ('rbf', 'sigmoid'),\n",
    "    'regressor__regressor__gamma' : [ 1e-2, 1e-1], \n",
    "              'regressor__regressor__epsilon' : [0.01, 0.05, 0.1], \n",
    "              'regressor__regressor__C' : [ 1, 4, 8]} \n",
    "for sc in metric:\n",
    "  grid_search = GridSearchCV(estimator = clf_svr, param_grid=param_grid, cv=10, scoring=sc, verbose=1, n_jobs=-1)\n",
    "  grid_result = grid_search.fit(X_train, y_train['SiteEnergyUse(kBtu)'])\n",
    "  Sc.append(round(grid_result.best_score_,3))\n",
    "  print(sc,':' , grid_result.best_score_)\n",
    "  print('Best Params: ', grid_result.best_params_)\n",
    "mtf = grid_result.cv_results_['mean_fit_time'].mean()*10*len(grid_result.cv_results_['mean_fit_time'])\n",
    "Sc.append(round(mtf,3))\n",
    "Sc.append(round(grid_result.cv_results_['mean_fit_time'].mean(),3))\n",
    "print('mean_fit_time:', mtf)\n",
    "clc_sc=pd.concat([clc_sc,pd.DataFrame({'SVR':Sc},index=index)],axis=1)"
   ]
  },
  {
   "cell_type": "markdown",
   "metadata": {
    "id": "AaJSCO4NDvWN"
   },
   "source": [
    " #### 3.2.2 Random Forest Regressor"
   ]
  },
  {
   "cell_type": "code",
   "execution_count": null,
   "metadata": {
    "colab": {
     "base_uri": "https://localhost:8080/"
    },
    "id": "DXSk-FwsSpDu",
    "outputId": "48922450-d688-44cc-b6f4-a9577a48e3f7"
   },
   "outputs": [
    {
     "name": "stdout",
     "output_type": "stream",
     "text": [
      "Fitting 10 folds for each of 18 candidates, totalling 180 fits\n",
      "r2 : 0.7585580590990226\n",
      "Best Params:  {'regressor__regressor__max_features': 'auto', 'regressor__regressor__min_samples_leaf': 1, 'regressor__regressor__n_estimators': 10}\n",
      "Fitting 10 folds for each of 18 candidates, totalling 180 fits\n",
      "neg_root_mean_squared_error : -9791481.605892615\n",
      "Best Params:  {'regressor__regressor__max_features': 'auto', 'regressor__regressor__min_samples_leaf': 1, 'regressor__regressor__n_estimators': 10}\n",
      "mean_fit_time: 787.4948148727419\n"
     ]
    }
   ],
   "source": [
    "Sc=[]\n",
    "param_grid={\n",
    "     'regressor__regressor__n_estimators' : [10,100,  200],\n",
    "    'regressor__regressor__min_samples_leaf' : [1, 2,3], \n",
    "    'regressor__regressor__max_features': ['auto', 'sqrt']}\n",
    "clf_rf = estimator_pipeline(RandomForestRegressor(), C_transf)\n",
    "for sc in metric:\n",
    "  grid_search = GridSearchCV(estimator = clf_rf, param_grid=param_grid, cv=10, scoring=sc, verbose=1, n_jobs=-1)\n",
    "  grid_result = grid_search.fit(X_train, y_train['SiteEnergyUse(kBtu)'])\n",
    "  Sc.append(grid_result.best_score_)\n",
    "  print(sc,':' , grid_result.best_score_)\n",
    "  print('Best Params: ', grid_result.best_params_)\n",
    "mtf = grid_result.cv_results_['mean_fit_time'].mean()*10*len(grid_result.cv_results_['mean_fit_time'])\n",
    "Sc.append(round(mtf,3))\n",
    "Sc.append(round(grid_result.cv_results_['mean_fit_time'].mean(),3))\n",
    "print('mean_fit_time:', mtf)\n",
    "clc_sc=pd.concat([clc_sc,pd.DataFrame({'RFR':Sc},index=index)],axis=1)\n"
   ]
  },
  {
   "cell_type": "markdown",
   "metadata": {
    "id": "uDzULFYKD-w8"
   },
   "source": [
    " #### 3.2.3 Gradient Boosting Regressor"
   ]
  },
  {
   "cell_type": "code",
   "execution_count": null,
   "metadata": {
    "colab": {
     "base_uri": "https://localhost:8080/"
    },
    "id": "8ndwVLDiQrKu",
    "outputId": "16cc5155-0d04-4391-9a7e-f046d9ff71a1"
   },
   "outputs": [
    {
     "name": "stdout",
     "output_type": "stream",
     "text": [
      "Fitting 10 folds for each of 36 candidates, totalling 360 fits\n",
      "r2 : 0.8128696551697485\n",
      "Best Params:  {'regressor__regressor__learning_rate': 0.03, 'regressor__regressor__max_depth': 6, 'regressor__regressor__n_estimators': 500, 'regressor__regressor__subsample': 0.5}\n",
      "Fitting 10 folds for each of 36 candidates, totalling 360 fits\n",
      "neg_root_mean_squared_error : -8234405.704743782\n",
      "Best Params:  {'regressor__regressor__learning_rate': 0.03, 'regressor__regressor__max_depth': 6, 'regressor__regressor__n_estimators': 500, 'regressor__regressor__subsample': 0.5}\n",
      "mean_fit_time: 937.7068409919736\n"
     ]
    }
   ],
   "source": [
    "Sc=[]\n",
    "clf_gbr = estimator_pipeline(GradientBoostingRegressor(), C_transf)\n",
    "param_grid = {'regressor__regressor__learning_rate': [0.02,0.03],\n",
    "                  'regressor__regressor__subsample'    : [0.8, 0.5, 0.1],\n",
    "                  'regressor__regressor__n_estimators' : [10, 100, 500],\n",
    "                  'regressor__regressor__max_depth'    : [6,8]\n",
    "                 }\n",
    "for sc in metric:\n",
    "  grid_search = GridSearchCV(estimator = clf_gbr, param_grid=param_grid, cv=10, scoring=sc, verbose=1, n_jobs=-1)\n",
    "  grid_result = grid_search.fit(X_train, y_train['SiteEnergyUse(kBtu)'])\n",
    "  Sc.append(round(grid_result.best_score_,3))\n",
    "  print(sc,':' , grid_result.best_score_)\n",
    "  print('Best Params: ', grid_result.best_params_)\n",
    "mtf = grid_result.cv_results_['mean_fit_time'].mean()*10*len(grid_result.cv_results_['mean_fit_time'])\n",
    "Sc.append(round(mtf,3))\n",
    "Sc.append(round(grid_result.cv_results_['mean_fit_time'].mean(),3))\n",
    "print('mean_fit_time:', mtf)\n",
    "clc_sc=pd.concat([clc_sc,pd.DataFrame({'GBR':Sc},index=index)],axis=1)"
   ]
  },
  {
   "cell_type": "markdown",
   "metadata": {
    "id": "MFDIPgP7E1sc"
   },
   "source": [
    "### <font id=\"section_33\"> 3.3 Comparaison des résultats"
   ]
  },
  {
   "cell_type": "markdown",
   "metadata": {},
   "source": [
    "Sur les divers modèles testés, le modèle linéaire Ridge et le SVR retournent des métriques moins bonnes ou moyennes.\n",
    "Les algorithmes XGBoost et RandomForestRegressor offrent des performances meilleurs que les modèles linéaires \n",
    "La qualité des prédictions avec un meilleur score pour XGBoost pour les deux métriques $R_2=0.813$ et RMSE=8234405.705"
   ]
  },
  {
   "cell_type": "code",
   "execution_count": null,
   "metadata": {
    "colab": {
     "base_uri": "https://localhost:8080/",
     "height": 300
    },
    "id": "cDViKpMVj7xZ",
    "outputId": "5aceba13-3805-42c8-d001-90784ba7d359"
   },
   "outputs": [
    {
     "data": {
      "text/html": [
       "\n",
       "  <div id=\"df-3c389edf-c8ea-44f0-9702-2afd7525aaf1\">\n",
       "    <div class=\"colab-df-container\">\n",
       "      <div>\n",
       "<style scoped>\n",
       "    .dataframe tbody tr th:only-of-type {\n",
       "        vertical-align: middle;\n",
       "    }\n",
       "\n",
       "    .dataframe tbody tr th {\n",
       "        vertical-align: top;\n",
       "    }\n",
       "\n",
       "    .dataframe thead th {\n",
       "        text-align: right;\n",
       "    }\n",
       "</style>\n",
       "<table border=\"1\" class=\"dataframe\">\n",
       "  <thead>\n",
       "    <tr style=\"text-align: right;\">\n",
       "      <th></th>\n",
       "      <th>R2</th>\n",
       "      <th>RMSE</th>\n",
       "      <th>MFT_total(s)</th>\n",
       "      <th>MFT(s)</th>\n",
       "    </tr>\n",
       "  </thead>\n",
       "  <tbody>\n",
       "    <tr>\n",
       "      <th>Dummy</th>\n",
       "      <td>-0.0596</td>\n",
       "      <td>19625997.1003</td>\n",
       "      <td>-</td>\n",
       "      <td>0.021</td>\n",
       "    </tr>\n",
       "    <tr>\n",
       "      <th>MLR</th>\n",
       "      <td>-899.75</td>\n",
       "      <td>403466958.44</td>\n",
       "      <td>2.214</td>\n",
       "      <td>0.111</td>\n",
       "    </tr>\n",
       "    <tr>\n",
       "      <th>Ridge</th>\n",
       "      <td>0.5</td>\n",
       "      <td>12649539.006</td>\n",
       "      <td>42.438</td>\n",
       "      <td>0.035</td>\n",
       "    </tr>\n",
       "    <tr>\n",
       "      <th>Lasso</th>\n",
       "      <td>-0.085</td>\n",
       "      <td>19860890.263</td>\n",
       "      <td>80.68</td>\n",
       "      <td>0.033</td>\n",
       "    </tr>\n",
       "    <tr>\n",
       "      <th>El_Net</th>\n",
       "      <td>-0.062</td>\n",
       "      <td>19689442.759</td>\n",
       "      <td>183.78</td>\n",
       "      <td>0.044</td>\n",
       "    </tr>\n",
       "    <tr>\n",
       "      <th>SVR</th>\n",
       "      <td>0.577</td>\n",
       "      <td>12417403.852</td>\n",
       "      <td>278.883</td>\n",
       "      <td>0.775</td>\n",
       "    </tr>\n",
       "    <tr>\n",
       "      <th>RFR</th>\n",
       "      <td>0.758558</td>\n",
       "      <td>9791481.605893</td>\n",
       "      <td>787.495</td>\n",
       "      <td>4.375</td>\n",
       "    </tr>\n",
       "    <tr>\n",
       "      <th>GBR</th>\n",
       "      <td>0.813</td>\n",
       "      <td>8234405.705</td>\n",
       "      <td>937.707</td>\n",
       "      <td>2.605</td>\n",
       "    </tr>\n",
       "  </tbody>\n",
       "</table>\n",
       "</div>\n",
       "      <button class=\"colab-df-convert\" onclick=\"convertToInteractive('df-3c389edf-c8ea-44f0-9702-2afd7525aaf1')\"\n",
       "              title=\"Convert this dataframe to an interactive table.\"\n",
       "              style=\"display:none;\">\n",
       "        \n",
       "  <svg xmlns=\"http://www.w3.org/2000/svg\" height=\"24px\"viewBox=\"0 0 24 24\"\n",
       "       width=\"24px\">\n",
       "    <path d=\"M0 0h24v24H0V0z\" fill=\"none\"/>\n",
       "    <path d=\"M18.56 5.44l.94 2.06.94-2.06 2.06-.94-2.06-.94-.94-2.06-.94 2.06-2.06.94zm-11 1L8.5 8.5l.94-2.06 2.06-.94-2.06-.94L8.5 2.5l-.94 2.06-2.06.94zm10 10l.94 2.06.94-2.06 2.06-.94-2.06-.94-.94-2.06-.94 2.06-2.06.94z\"/><path d=\"M17.41 7.96l-1.37-1.37c-.4-.4-.92-.59-1.43-.59-.52 0-1.04.2-1.43.59L10.3 9.45l-7.72 7.72c-.78.78-.78 2.05 0 2.83L4 21.41c.39.39.9.59 1.41.59.51 0 1.02-.2 1.41-.59l7.78-7.78 2.81-2.81c.8-.78.8-2.07 0-2.86zM5.41 20L4 18.59l7.72-7.72 1.47 1.35L5.41 20z\"/>\n",
       "  </svg>\n",
       "      </button>\n",
       "      \n",
       "  <style>\n",
       "    .colab-df-container {\n",
       "      display:flex;\n",
       "      flex-wrap:wrap;\n",
       "      gap: 12px;\n",
       "    }\n",
       "\n",
       "    .colab-df-convert {\n",
       "      background-color: #E8F0FE;\n",
       "      border: none;\n",
       "      border-radius: 50%;\n",
       "      cursor: pointer;\n",
       "      display: none;\n",
       "      fill: #1967D2;\n",
       "      height: 32px;\n",
       "      padding: 0 0 0 0;\n",
       "      width: 32px;\n",
       "    }\n",
       "\n",
       "    .colab-df-convert:hover {\n",
       "      background-color: #E2EBFA;\n",
       "      box-shadow: 0px 1px 2px rgba(60, 64, 67, 0.3), 0px 1px 3px 1px rgba(60, 64, 67, 0.15);\n",
       "      fill: #174EA6;\n",
       "    }\n",
       "\n",
       "    [theme=dark] .colab-df-convert {\n",
       "      background-color: #3B4455;\n",
       "      fill: #D2E3FC;\n",
       "    }\n",
       "\n",
       "    [theme=dark] .colab-df-convert:hover {\n",
       "      background-color: #434B5C;\n",
       "      box-shadow: 0px 1px 3px 1px rgba(0, 0, 0, 0.15);\n",
       "      filter: drop-shadow(0px 1px 2px rgba(0, 0, 0, 0.3));\n",
       "      fill: #FFFFFF;\n",
       "    }\n",
       "  </style>\n",
       "\n",
       "      <script>\n",
       "        const buttonEl =\n",
       "          document.querySelector('#df-3c389edf-c8ea-44f0-9702-2afd7525aaf1 button.colab-df-convert');\n",
       "        buttonEl.style.display =\n",
       "          google.colab.kernel.accessAllowed ? 'block' : 'none';\n",
       "\n",
       "        async function convertToInteractive(key) {\n",
       "          const element = document.querySelector('#df-3c389edf-c8ea-44f0-9702-2afd7525aaf1');\n",
       "          const dataTable =\n",
       "            await google.colab.kernel.invokeFunction('convertToInteractive',\n",
       "                                                     [key], {});\n",
       "          if (!dataTable) return;\n",
       "\n",
       "          const docLinkHtml = 'Like what you see? Visit the ' +\n",
       "            '<a target=\"_blank\" href=https://colab.research.google.com/notebooks/data_table.ipynb>data table notebook</a>'\n",
       "            + ' to learn more about interactive tables.';\n",
       "          element.innerHTML = '';\n",
       "          dataTable['output_type'] = 'display_data';\n",
       "          await google.colab.output.renderOutput(dataTable, element);\n",
       "          const docLink = document.createElement('div');\n",
       "          docLink.innerHTML = docLinkHtml;\n",
       "          element.appendChild(docLink);\n",
       "        }\n",
       "      </script>\n",
       "    </div>\n",
       "  </div>\n",
       "  "
      ],
      "text/plain": [
       "              R2            RMSE MFT_total(s) MFT(s)\n",
       "Dummy    -0.0596   19625997.1003            -  0.021\n",
       "MLR      -899.75    403466958.44        2.214  0.111\n",
       "Ridge        0.5    12649539.006       42.438  0.035\n",
       "Lasso     -0.085    19860890.263        80.68  0.033\n",
       "El_Net    -0.062    19689442.759       183.78  0.044\n",
       "SVR        0.577    12417403.852      278.883  0.775\n",
       "RFR     0.758558  9791481.605893      787.495  4.375\n",
       "GBR        0.813     8234405.705      937.707  2.605"
      ]
     },
     "execution_count": 42,
     "metadata": {},
     "output_type": "execute_result"
    }
   ],
   "source": [
    "# we change the negative RMSE to positive RMSE\n",
    "clc_sc.loc['RMSE',clc_sc.columns]=clc_sc.loc['RMSE',clc_sc.columns].astype(str).astype('float64')\n",
    "clc_sc.loc['RMSE',clc_sc.columns]=-clc_sc.loc['RMSE']\n",
    "clc_sc.T"
   ]
  },
  {
   "cell_type": "markdown",
   "metadata": {
    "id": "USjjBSFH-O1j"
   },
   "source": [
    "### <font id=\"section_34\"> 3.4 Cross validation pour RFR et GBR"
   ]
  },
  {
   "cell_type": "code",
   "execution_count": null,
   "metadata": {
    "colab": {
     "base_uri": "https://localhost:8080/",
     "height": 300
    },
    "id": "uw54zOmhVg_F",
    "outputId": "3684a738-ef90-4856-fa38-453b789b3037"
   },
   "outputs": [
    {
     "data": {
      "text/html": [
       "\n",
       "  <div id=\"df-c8d7b5a6-7ec5-4960-b5c1-6e6b5556e207\">\n",
       "    <div class=\"colab-df-container\">\n",
       "      <div>\n",
       "<style scoped>\n",
       "    .dataframe tbody tr th:only-of-type {\n",
       "        vertical-align: middle;\n",
       "    }\n",
       "\n",
       "    .dataframe tbody tr th {\n",
       "        vertical-align: top;\n",
       "    }\n",
       "\n",
       "    .dataframe thead th {\n",
       "        text-align: right;\n",
       "    }\n",
       "</style>\n",
       "<table border=\"1\" class=\"dataframe\">\n",
       "  <thead>\n",
       "    <tr style=\"text-align: right;\">\n",
       "      <th></th>\n",
       "      <th>RMSE</th>\n",
       "      <th>MAE</th>\n",
       "      <th>R2</th>\n",
       "      <th>fit_time</th>\n",
       "    </tr>\n",
       "  </thead>\n",
       "  <tbody>\n",
       "    <tr>\n",
       "      <th>count</th>\n",
       "      <td>3.000000e+01</td>\n",
       "      <td>3.000000e+01</td>\n",
       "      <td>30.000000</td>\n",
       "      <td>30.000000</td>\n",
       "    </tr>\n",
       "    <tr>\n",
       "      <th>mean</th>\n",
       "      <td>8.464775e+06</td>\n",
       "      <td>2.495105e+06</td>\n",
       "      <td>0.746399</td>\n",
       "      <td>13.782120</td>\n",
       "    </tr>\n",
       "    <tr>\n",
       "      <th>std</th>\n",
       "      <td>7.989503e+06</td>\n",
       "      <td>1.093057e+06</td>\n",
       "      <td>0.188396</td>\n",
       "      <td>0.042366</td>\n",
       "    </tr>\n",
       "    <tr>\n",
       "      <th>min</th>\n",
       "      <td>2.257672e+06</td>\n",
       "      <td>9.986569e+05</td>\n",
       "      <td>0.215830</td>\n",
       "      <td>13.693246</td>\n",
       "    </tr>\n",
       "    <tr>\n",
       "      <th>25%</th>\n",
       "      <td>4.181558e+06</td>\n",
       "      <td>1.737108e+06</td>\n",
       "      <td>0.680928</td>\n",
       "      <td>13.752750</td>\n",
       "    </tr>\n",
       "    <tr>\n",
       "      <th>50%</th>\n",
       "      <td>6.051124e+06</td>\n",
       "      <td>2.321392e+06</td>\n",
       "      <td>0.809348</td>\n",
       "      <td>13.788795</td>\n",
       "    </tr>\n",
       "    <tr>\n",
       "      <th>75%</th>\n",
       "      <td>9.018753e+06</td>\n",
       "      <td>2.995345e+06</td>\n",
       "      <td>0.879633</td>\n",
       "      <td>13.807986</td>\n",
       "    </tr>\n",
       "    <tr>\n",
       "      <th>max</th>\n",
       "      <td>4.114603e+07</td>\n",
       "      <td>6.225806e+06</td>\n",
       "      <td>0.957033</td>\n",
       "      <td>13.871883</td>\n",
       "    </tr>\n",
       "  </tbody>\n",
       "</table>\n",
       "</div>\n",
       "      <button class=\"colab-df-convert\" onclick=\"convertToInteractive('df-c8d7b5a6-7ec5-4960-b5c1-6e6b5556e207')\"\n",
       "              title=\"Convert this dataframe to an interactive table.\"\n",
       "              style=\"display:none;\">\n",
       "        \n",
       "  <svg xmlns=\"http://www.w3.org/2000/svg\" height=\"24px\"viewBox=\"0 0 24 24\"\n",
       "       width=\"24px\">\n",
       "    <path d=\"M0 0h24v24H0V0z\" fill=\"none\"/>\n",
       "    <path d=\"M18.56 5.44l.94 2.06.94-2.06 2.06-.94-2.06-.94-.94-2.06-.94 2.06-2.06.94zm-11 1L8.5 8.5l.94-2.06 2.06-.94-2.06-.94L8.5 2.5l-.94 2.06-2.06.94zm10 10l.94 2.06.94-2.06 2.06-.94-2.06-.94-.94-2.06-.94 2.06-2.06.94z\"/><path d=\"M17.41 7.96l-1.37-1.37c-.4-.4-.92-.59-1.43-.59-.52 0-1.04.2-1.43.59L10.3 9.45l-7.72 7.72c-.78.78-.78 2.05 0 2.83L4 21.41c.39.39.9.59 1.41.59.51 0 1.02-.2 1.41-.59l7.78-7.78 2.81-2.81c.8-.78.8-2.07 0-2.86zM5.41 20L4 18.59l7.72-7.72 1.47 1.35L5.41 20z\"/>\n",
       "  </svg>\n",
       "      </button>\n",
       "      \n",
       "  <style>\n",
       "    .colab-df-container {\n",
       "      display:flex;\n",
       "      flex-wrap:wrap;\n",
       "      gap: 12px;\n",
       "    }\n",
       "\n",
       "    .colab-df-convert {\n",
       "      background-color: #E8F0FE;\n",
       "      border: none;\n",
       "      border-radius: 50%;\n",
       "      cursor: pointer;\n",
       "      display: none;\n",
       "      fill: #1967D2;\n",
       "      height: 32px;\n",
       "      padding: 0 0 0 0;\n",
       "      width: 32px;\n",
       "    }\n",
       "\n",
       "    .colab-df-convert:hover {\n",
       "      background-color: #E2EBFA;\n",
       "      box-shadow: 0px 1px 2px rgba(60, 64, 67, 0.3), 0px 1px 3px 1px rgba(60, 64, 67, 0.15);\n",
       "      fill: #174EA6;\n",
       "    }\n",
       "\n",
       "    [theme=dark] .colab-df-convert {\n",
       "      background-color: #3B4455;\n",
       "      fill: #D2E3FC;\n",
       "    }\n",
       "\n",
       "    [theme=dark] .colab-df-convert:hover {\n",
       "      background-color: #434B5C;\n",
       "      box-shadow: 0px 1px 3px 1px rgba(0, 0, 0, 0.15);\n",
       "      filter: drop-shadow(0px 1px 2px rgba(0, 0, 0, 0.3));\n",
       "      fill: #FFFFFF;\n",
       "    }\n",
       "  </style>\n",
       "\n",
       "      <script>\n",
       "        const buttonEl =\n",
       "          document.querySelector('#df-c8d7b5a6-7ec5-4960-b5c1-6e6b5556e207 button.colab-df-convert');\n",
       "        buttonEl.style.display =\n",
       "          google.colab.kernel.accessAllowed ? 'block' : 'none';\n",
       "\n",
       "        async function convertToInteractive(key) {\n",
       "          const element = document.querySelector('#df-c8d7b5a6-7ec5-4960-b5c1-6e6b5556e207');\n",
       "          const dataTable =\n",
       "            await google.colab.kernel.invokeFunction('convertToInteractive',\n",
       "                                                     [key], {});\n",
       "          if (!dataTable) return;\n",
       "\n",
       "          const docLinkHtml = 'Like what you see? Visit the ' +\n",
       "            '<a target=\"_blank\" href=https://colab.research.google.com/notebooks/data_table.ipynb>data table notebook</a>'\n",
       "            + ' to learn more about interactive tables.';\n",
       "          element.innerHTML = '';\n",
       "          dataTable['output_type'] = 'display_data';\n",
       "          await google.colab.output.renderOutput(dataTable, element);\n",
       "          const docLink = document.createElement('div');\n",
       "          docLink.innerHTML = docLinkHtml;\n",
       "          element.appendChild(docLink);\n",
       "        }\n",
       "      </script>\n",
       "    </div>\n",
       "  </div>\n",
       "  "
      ],
      "text/plain": [
       "               RMSE           MAE         R2   fit_time\n",
       "count  3.000000e+01  3.000000e+01  30.000000  30.000000\n",
       "mean   8.464775e+06  2.495105e+06   0.746399  13.782120\n",
       "std    7.989503e+06  1.093057e+06   0.188396   0.042366\n",
       "min    2.257672e+06  9.986569e+05   0.215830  13.693246\n",
       "25%    4.181558e+06  1.737108e+06   0.680928  13.752750\n",
       "50%    6.051124e+06  2.321392e+06   0.809348  13.788795\n",
       "75%    9.018753e+06  2.995345e+06   0.879633  13.807986\n",
       "max    4.114603e+07  6.225806e+06   0.957033  13.871883"
      ]
     },
     "execution_count": 44,
     "metadata": {},
     "output_type": "execute_result"
    }
   ],
   "source": [
    "scores = cross_validate(clf_rf, X_train, y_train['SiteEnergyUse(kBtu)'], cv=30, \n",
    "                        scoring=['r2','neg_root_mean_squared_error', 'neg_mean_absolute_error'])\n",
    "dr = pd.DataFrame(scores)\n",
    "dr[[ 'test_neg_root_mean_squared_error','test_neg_mean_absolute_error']] =-dr[[ 'test_neg_root_mean_squared_error','test_neg_mean_absolute_error']]\n",
    "d_rf=dr[[ 'test_neg_root_mean_squared_error','test_neg_mean_absolute_error']+['test_r2','fit_time']]\n",
    "d_rf.columns = ['RMSE', 'MAE', 'R2', 'fit_time']\n",
    "d_rf.describe()"
   ]
  },
  {
   "cell_type": "code",
   "execution_count": null,
   "metadata": {
    "colab": {
     "base_uri": "https://localhost:8080/",
     "height": 300
    },
    "id": "N5oQnwqDVsrh",
    "outputId": "39259d8e-ce9a-4f37-978c-899d3c4d2e9c"
   },
   "outputs": [
    {
     "data": {
      "text/html": [
       "\n",
       "  <div id=\"df-d83d2475-5483-4881-8b09-6aeb8541865d\">\n",
       "    <div class=\"colab-df-container\">\n",
       "      <div>\n",
       "<style scoped>\n",
       "    .dataframe tbody tr th:only-of-type {\n",
       "        vertical-align: middle;\n",
       "    }\n",
       "\n",
       "    .dataframe tbody tr th {\n",
       "        vertical-align: top;\n",
       "    }\n",
       "\n",
       "    .dataframe thead th {\n",
       "        text-align: right;\n",
       "    }\n",
       "</style>\n",
       "<table border=\"1\" class=\"dataframe\">\n",
       "  <thead>\n",
       "    <tr style=\"text-align: right;\">\n",
       "      <th></th>\n",
       "      <th>RMSE</th>\n",
       "      <th>MAE</th>\n",
       "      <th>R2</th>\n",
       "      <th>fit_time</th>\n",
       "    </tr>\n",
       "  </thead>\n",
       "  <tbody>\n",
       "    <tr>\n",
       "      <th>count</th>\n",
       "      <td>3.000000e+01</td>\n",
       "      <td>3.000000e+01</td>\n",
       "      <td>30.000000</td>\n",
       "      <td>30.000000</td>\n",
       "    </tr>\n",
       "    <tr>\n",
       "      <th>mean</th>\n",
       "      <td>7.053847e+06</td>\n",
       "      <td>2.044557e+06</td>\n",
       "      <td>0.818903</td>\n",
       "      <td>7.959435</td>\n",
       "    </tr>\n",
       "    <tr>\n",
       "      <th>std</th>\n",
       "      <td>7.761435e+06</td>\n",
       "      <td>1.009062e+06</td>\n",
       "      <td>0.164299</td>\n",
       "      <td>0.049633</td>\n",
       "    </tr>\n",
       "    <tr>\n",
       "      <th>min</th>\n",
       "      <td>1.728139e+06</td>\n",
       "      <td>8.822360e+05</td>\n",
       "      <td>0.291194</td>\n",
       "      <td>7.846135</td>\n",
       "    </tr>\n",
       "    <tr>\n",
       "      <th>25%</th>\n",
       "      <td>3.329228e+06</td>\n",
       "      <td>1.467380e+06</td>\n",
       "      <td>0.779527</td>\n",
       "      <td>7.932860</td>\n",
       "    </tr>\n",
       "    <tr>\n",
       "      <th>50%</th>\n",
       "      <td>4.651950e+06</td>\n",
       "      <td>1.722464e+06</td>\n",
       "      <td>0.870603</td>\n",
       "      <td>7.956073</td>\n",
       "    </tr>\n",
       "    <tr>\n",
       "      <th>75%</th>\n",
       "      <td>7.077221e+06</td>\n",
       "      <td>2.391224e+06</td>\n",
       "      <td>0.918952</td>\n",
       "      <td>8.001307</td>\n",
       "    </tr>\n",
       "    <tr>\n",
       "      <th>max</th>\n",
       "      <td>3.876258e+07</td>\n",
       "      <td>5.781039e+06</td>\n",
       "      <td>0.994532</td>\n",
       "      <td>8.047136</td>\n",
       "    </tr>\n",
       "  </tbody>\n",
       "</table>\n",
       "</div>\n",
       "      <button class=\"colab-df-convert\" onclick=\"convertToInteractive('df-d83d2475-5483-4881-8b09-6aeb8541865d')\"\n",
       "              title=\"Convert this dataframe to an interactive table.\"\n",
       "              style=\"display:none;\">\n",
       "        \n",
       "  <svg xmlns=\"http://www.w3.org/2000/svg\" height=\"24px\"viewBox=\"0 0 24 24\"\n",
       "       width=\"24px\">\n",
       "    <path d=\"M0 0h24v24H0V0z\" fill=\"none\"/>\n",
       "    <path d=\"M18.56 5.44l.94 2.06.94-2.06 2.06-.94-2.06-.94-.94-2.06-.94 2.06-2.06.94zm-11 1L8.5 8.5l.94-2.06 2.06-.94-2.06-.94L8.5 2.5l-.94 2.06-2.06.94zm10 10l.94 2.06.94-2.06 2.06-.94-2.06-.94-.94-2.06-.94 2.06-2.06.94z\"/><path d=\"M17.41 7.96l-1.37-1.37c-.4-.4-.92-.59-1.43-.59-.52 0-1.04.2-1.43.59L10.3 9.45l-7.72 7.72c-.78.78-.78 2.05 0 2.83L4 21.41c.39.39.9.59 1.41.59.51 0 1.02-.2 1.41-.59l7.78-7.78 2.81-2.81c.8-.78.8-2.07 0-2.86zM5.41 20L4 18.59l7.72-7.72 1.47 1.35L5.41 20z\"/>\n",
       "  </svg>\n",
       "      </button>\n",
       "      \n",
       "  <style>\n",
       "    .colab-df-container {\n",
       "      display:flex;\n",
       "      flex-wrap:wrap;\n",
       "      gap: 12px;\n",
       "    }\n",
       "\n",
       "    .colab-df-convert {\n",
       "      background-color: #E8F0FE;\n",
       "      border: none;\n",
       "      border-radius: 50%;\n",
       "      cursor: pointer;\n",
       "      display: none;\n",
       "      fill: #1967D2;\n",
       "      height: 32px;\n",
       "      padding: 0 0 0 0;\n",
       "      width: 32px;\n",
       "    }\n",
       "\n",
       "    .colab-df-convert:hover {\n",
       "      background-color: #E2EBFA;\n",
       "      box-shadow: 0px 1px 2px rgba(60, 64, 67, 0.3), 0px 1px 3px 1px rgba(60, 64, 67, 0.15);\n",
       "      fill: #174EA6;\n",
       "    }\n",
       "\n",
       "    [theme=dark] .colab-df-convert {\n",
       "      background-color: #3B4455;\n",
       "      fill: #D2E3FC;\n",
       "    }\n",
       "\n",
       "    [theme=dark] .colab-df-convert:hover {\n",
       "      background-color: #434B5C;\n",
       "      box-shadow: 0px 1px 3px 1px rgba(0, 0, 0, 0.15);\n",
       "      filter: drop-shadow(0px 1px 2px rgba(0, 0, 0, 0.3));\n",
       "      fill: #FFFFFF;\n",
       "    }\n",
       "  </style>\n",
       "\n",
       "      <script>\n",
       "        const buttonEl =\n",
       "          document.querySelector('#df-d83d2475-5483-4881-8b09-6aeb8541865d button.colab-df-convert');\n",
       "        buttonEl.style.display =\n",
       "          google.colab.kernel.accessAllowed ? 'block' : 'none';\n",
       "\n",
       "        async function convertToInteractive(key) {\n",
       "          const element = document.querySelector('#df-d83d2475-5483-4881-8b09-6aeb8541865d');\n",
       "          const dataTable =\n",
       "            await google.colab.kernel.invokeFunction('convertToInteractive',\n",
       "                                                     [key], {});\n",
       "          if (!dataTable) return;\n",
       "\n",
       "          const docLinkHtml = 'Like what you see? Visit the ' +\n",
       "            '<a target=\"_blank\" href=https://colab.research.google.com/notebooks/data_table.ipynb>data table notebook</a>'\n",
       "            + ' to learn more about interactive tables.';\n",
       "          element.innerHTML = '';\n",
       "          dataTable['output_type'] = 'display_data';\n",
       "          await google.colab.output.renderOutput(dataTable, element);\n",
       "          const docLink = document.createElement('div');\n",
       "          docLink.innerHTML = docLinkHtml;\n",
       "          element.appendChild(docLink);\n",
       "        }\n",
       "      </script>\n",
       "    </div>\n",
       "  </div>\n",
       "  "
      ],
      "text/plain": [
       "               RMSE           MAE         R2   fit_time\n",
       "count  3.000000e+01  3.000000e+01  30.000000  30.000000\n",
       "mean   7.053847e+06  2.044557e+06   0.818903   7.959435\n",
       "std    7.761435e+06  1.009062e+06   0.164299   0.049633\n",
       "min    1.728139e+06  8.822360e+05   0.291194   7.846135\n",
       "25%    3.329228e+06  1.467380e+06   0.779527   7.932860\n",
       "50%    4.651950e+06  1.722464e+06   0.870603   7.956073\n",
       "75%    7.077221e+06  2.391224e+06   0.918952   8.001307\n",
       "max    3.876258e+07  5.781039e+06   0.994532   8.047136"
      ]
     },
     "execution_count": 45,
     "metadata": {},
     "output_type": "execute_result"
    }
   ],
   "source": [
    "clf_gbr = estimator_pipeline(GradientBoostingRegressor(learning_rate=0.03,max_depth=8,n_estimators= 500,subsample= 0.8), C_transf)\n",
    "scores = cross_validate(clf_gbr, X_train, y_train['SiteEnergyUse(kBtu)'], cv=30, \n",
    "                        scoring=['r2','neg_root_mean_squared_error', 'neg_mean_absolute_error'])\n",
    "dg = pd.DataFrame(scores)\n",
    "dg[[ 'test_neg_root_mean_squared_error','test_neg_mean_absolute_error']] =-dg[[ 'test_neg_root_mean_squared_error','test_neg_mean_absolute_error']]\n",
    "d_gbr=dg[[ 'test_neg_root_mean_squared_error','test_neg_mean_absolute_error']+['test_r2','fit_time']]\n",
    "d_gbr.columns = ['RMSE', 'MAE', 'R2', 'fit_time']\n",
    "d_gbr.describe()"
   ]
  },
  {
   "cell_type": "code",
   "execution_count": null,
   "metadata": {
    "colab": {
     "base_uri": "https://localhost:8080/",
     "height": 297
    },
    "id": "WvMjK-9oV012",
    "outputId": "8359be3f-d15e-4853-a56b-55b7bf962777"
   },
   "outputs": [
    {
     "data": {
      "image/png": "[encoded data removed]",
      "text/plain": [
       "<Figure size 1080x288 with 4 Axes>"
      ]
     },
     "metadata": {
      "needs_background": "light"
     },
     "output_type": "display_data"
    }
   ],
   "source": [
    "fig, ax = plt.subplots(1, 4,figsize=(15,4))\n",
    "ax[0].boxplot([d_gbr['RMSE'],d_rf['RMSE']],patch_artist = True,\n",
    "                widths = [0.5, 0.5])\n",
    "ax[0].set_title(\" RMSE score  \")\n",
    "ax[0].set_xticklabels(['GBR', 'RFR']) \n",
    "ax[1].boxplot([d_gbr['MAE'],d_rf['MAE']],patch_artist = True,\n",
    "                widths = [0.5, 0.5])\n",
    "ax[1].set_title(\"MAE score\")\n",
    "ax[1].set_xticklabels( ['GBR', 'RFR']) \n",
    "ax[2].boxplot([d_gbr['R2'],d_rf['R2']],patch_artist = True,\n",
    "                 widths =[0.5, 0.5])\n",
    "ax[2].set_title(\"R2 score\")\n",
    "ax[2].set_xticklabels(['GBR', 'RFR']) \n",
    "ax[3].boxplot([d_gbr['fit_time'],d_rf['fit_time']],patch_artist = True,\n",
    "                 widths = [0.5, 0.5])\n",
    "ax[3].set_title(\"Time fit\")\n",
    "ax[3].set_xticklabels(['GBR', 'RFR']) \n",
    "fig.tight_layout()"
   ]
  },
  {
   "cell_type": "markdown",
   "metadata": {
    "id": "svNYRy41F-Pe"
   },
   "source": [
    "Les boîtes à moustaches des scores montrent que le Gradient Boosting est meilleur que Random Forest avec une RMSE et MAE la plus basse. Le temps d'entrainement du GBR est aussi moins  élevé que celui de RFR."
   ]
  },
  {
   "cell_type": "markdown",
   "metadata": {
    "id": "-byWXeQgUWvd"
   },
   "source": [
    "## <font id=\"section_4\"> 4 Feature importances \n",
    "### <font id=\"section_41\"> 4.1 Emissions du $Co_2$"
   ]
  },
  {
   "cell_type": "code",
   "execution_count": null,
   "metadata": {
    "colab": {
     "base_uri": "https://localhost:8080/",
     "height": 657
    },
    "id": "c0RRZ3PncfDK",
    "outputId": "6a4779b5-862b-47b9-b228-59e49b2e03bc"
   },
   "outputs": [
    {
     "data": {
      "image/png": "[encoded data removed]",
      "text/plain": [
       "<Figure size 648x648 with 1 Axes>"
      ]
     },
     "metadata": {
      "needs_background": "light"
     },
     "output_type": "display_data"
    }
   ],
   "source": [
    "clf_gbr = estimator_pipeline(GradientBoostingRegressor(learning_rate=0.03,max_depth=8,n_estimators= 500,subsample= 0.8), C_transf)\n",
    "clf_gbr.fit(X_train, y_train['GHGEmissions(MetricTonsCO2e)'])\n",
    "feature_names = clf_gbr.regressor_.named_steps[\"ct\"].named_transformers_['cat'].get_feature_names_out(input_features=cat_selector(X))\n",
    "feature_names = np.r_[feature_names, num_selector(X)]\n",
    "tree_feature_importances = clf_gbr.regressor_.named_steps['regressor'].feature_importances_\n",
    "sorted_idx = tree_feature_importances.argsort()\n",
    "df=pd.DataFrame({'feature':feature_names[sorted_idx], 'importance':tree_feature_importances[sorted_idx]})\n",
    "feat_imp=np.zeros(len(X.columns))\n",
    "for j in range(0,len(X.columns)):\n",
    "    feat_imp[j]= (df['importance'][df['feature'].str.contains(X.columns[j])]).sum()\n",
    "\n",
    "sorted_idx =feat_imp.argsort()\n",
    "y_ticks = np.arange(0, len(feat_imp))\n",
    "fig, ax = plt.subplots(figsize=(9,9))\n",
    "ax.barh(y_ticks, feat_imp[sorted_idx])\n",
    "ax.set_yticks(y_ticks)\n",
    "ax.set_yticklabels(X.columns[sorted_idx],fontsize = 14)\n",
    "ax.set_title(\"GBR Importances (GHGEmissions)\",fontsize = 14)\n",
    "ax.set_xlabel(\"Feature score\",fontsize = 14)\n",
    "fig.tight_layout()\n",
    "plt.show()"
   ]
  },
  {
   "cell_type": "markdown",
   "metadata": {
    "id": "dWiphGq56RMl"
   },
   "source": [
    "### <font id=\"section_42\"> 4.2 Consommation de l'énérgie"
   ]
  },
  {
   "cell_type": "code",
   "execution_count": null,
   "metadata": {
    "colab": {
     "base_uri": "https://localhost:8080/",
     "height": 657
    },
    "id": "FkEwwaXBUXaa",
    "outputId": "608d32f3-53c1-4f7f-f379-fc397628f5d1"
   },
   "outputs": [
    {
     "data": {
      "image/png": "[encoded data removed]",
      "text/plain": [
       "<Figure size 648x648 with 1 Axes>"
      ]
     },
     "metadata": {
      "needs_background": "light"
     },
     "output_type": "display_data"
    }
   ],
   "source": [
    "clf_gbr.fit(X_train, y_train['SiteEnergyUse(kBtu)'])\n",
    "feature_names = clf_gbr.regressor_.named_steps[\"ct\"].named_transformers_['cat'].get_feature_names_out(input_features=cat_selector(X))\n",
    "feature_names = np.r_[feature_names, num_selector(X)]\n",
    "tree_feature_importances = clf_gbr.regressor_.named_steps['regressor'].feature_importances_\n",
    "sorted_idx = tree_feature_importances.argsort()\n",
    "df=pd.DataFrame({'feature':feature_names[sorted_idx], 'importance':tree_feature_importances[sorted_idx]})\n",
    "feat_imp=np.zeros(len(X.columns))\n",
    "for j in range(0,len(X.columns)):\n",
    "    feat_imp[j]= (df['importance'][df['feature'].str.contains(X.columns[j])]).sum()\n",
    "\n",
    "sorted_idx =feat_imp.argsort()\n",
    "y_ticks = np.arange(0, len(feat_imp))\n",
    "fig, ax = plt.subplots(figsize=(9,9))\n",
    "ax.barh(y_ticks, feat_imp[sorted_idx])\n",
    "ax.set_yticks(y_ticks)\n",
    "ax.set_yticklabels(X.columns[sorted_idx],fontsize = 14)\n",
    "ax.set_title(\"GBR Feature Importances (SiteEnergyUse)\",fontsize = 14)\n",
    "ax.set_xlabel(\"Feature score\",fontsize = 14)\n",
    "fig.tight_layout()\n",
    "plt.show()"
   ]
  },
  {
   "cell_type": "markdown",
   "metadata": {
    "id": "2OYT4fxzhJ2q"
   },
   "source": [
    "Le type d'utilisation principale (*LargestPropertyUseType*) et la surface large (*LargestPropertyUseTypeGFA*)\n",
    "ont un poids plus important dans les décisions de notre modèle pour les deux variables à prédire. En revanche, le nombre de bâtiment a un impact négligeable.\n",
    "On remarque également que les trois autres type de surface GFA n'ont pas un impact très important sur les prédictions."
   ]
  },
  {
   "cell_type": "markdown",
   "metadata": {
    "id": "BCBzCtqgU8Tx"
   },
   "source": [
    "## <font id=\"section_5\"> 5 Prédictions des modèles séléctionés\n",
    "### <font id=\"section_51\"> 5.1 Prédiction de CO$_2$-émissions"
   ]
  },
  {
   "cell_type": "markdown",
   "metadata": {
    "id": "97S4pwAm2aml"
   },
   "source": [
    "Regardons d'abord les résultats des prédictions avec le régresseur simple dummy transformé:"
   ]
  },
  {
   "cell_type": "code",
   "execution_count": null,
   "metadata": {
    "colab": {
     "base_uri": "https://localhost:8080/"
    },
    "id": "prPcVbLZgrnE",
    "outputId": "c8e31b4c-d786-4fcb-8b51-41c048f6c3b7"
   },
   "outputs": [
    {
     "name": "stdout",
     "output_type": "stream",
     "text": [
      "MAE (L1)       139.7708\n",
      "RMSE (L2)      570.4369\n",
      "Mediane-AE      40.0125\n",
      "R2 (CV)          -0.0362\n"
     ]
    }
   ],
   "source": [
    "dummy_t.fit(X_train,y_train['GHGEmissions(MetricTonsCO2e)'])\n",
    "y_pred = dummy_t.predict(X_test)\n",
    "model_accuracy(y_pred,y_test['GHGEmissions(MetricTonsCO2e)'])"
   ]
  },
  {
   "cell_type": "markdown",
   "metadata": {
    "id": "KBeqKpoS2eYh"
   },
   "source": [
    "Les résultas de prédiction par le régresseur GBR:"
   ]
  },
  {
   "cell_type": "code",
   "execution_count": null,
   "metadata": {
    "colab": {
     "base_uri": "https://localhost:8080/"
    },
    "id": "QJY-bTDDhX2E",
    "outputId": "1abb2928-f7e0-4948-c7d6-d4e39ddb171d"
   },
   "outputs": [
    {
     "name": "stdout",
     "output_type": "stream",
     "text": [
      "time_fit : 8.4 s    \n",
      "MAE (L1)       67.0483\n",
      "RMSE (L2)      245.3126\n",
      "Mediane-AE      14.1057\n",
      "R2 (CV)          0.8084\n"
     ]
    }
   ],
   "source": [
    "import time\n",
    "start_time = time.time()\n",
    "clf_gbr.fit(X_train,y_train['GHGEmissions(MetricTonsCO2e)'])\n",
    "y_pred = clf_gbr.predict(X_test)\n",
    "print(\"time_fit : {:.2} s    \".format((time.time() - start_time)))\n",
    "model_accuracy(y_pred,y_test['GHGEmissions(MetricTonsCO2e)'])"
   ]
  },
  {
   "cell_type": "code",
   "execution_count": null,
   "metadata": {
    "colab": {
     "base_uri": "https://localhost:8080/",
     "height": 413
    },
    "id": "pRfyaF0NiYH1",
    "outputId": "58b23dca-3c06-4bfe-e1db-5a86bb851200"
   },
   "outputs": [
    {
     "data": {
      "image/png": "[encoded data removed]",
      "text/plain": [
       "<Figure size 648x432 with 1 Axes>"
      ]
     },
     "metadata": {
      "needs_background": "light"
     },
     "output_type": "display_data"
    }
   ],
   "source": [
    "plt.figure(figsize=(9, 6))\n",
    "plt.scatter(y_test['GHGEmissions(MetricTonsCO2e)'], y_pred, c ='r',lw = 1,\n",
    "            marker =\"*\", edgecolor =\"b\", s=100, alpha=.5)\n",
    "plt.plot([y_test['GHGEmissions(MetricTonsCO2e)'].min(), y_test['GHGEmissions(MetricTonsCO2e)'].max()],\n",
    "         [y_test['GHGEmissions(MetricTonsCO2e)'].min(), y_test['GHGEmissions(MetricTonsCO2e)'].max()],c='b',lw=2) \n",
    "plt.xlim([0,3000])\n",
    "plt.ylim([0,3000])\n",
    "plt.xlabel(\"test-values\",fontsize = 14)\n",
    "plt.ylabel(\"predict-values\",fontsize = 14)\n",
    "plt.xticks(fontsize = 14)\n",
    "plt.yticks(fontsize = 14)\n",
    "plt.title('GHGEmissions(MetricTonsCO2e)',fontsize = 14)\n",
    "plt.show()"
   ]
  },
  {
   "cell_type": "markdown",
   "metadata": {
    "id": "LVWZ2dPS2pc1"
   },
   "source": [
    "Les résultas de prédiction par le régresseur RFR:"
   ]
  },
  {
   "cell_type": "code",
   "execution_count": null,
   "metadata": {
    "colab": {
     "base_uri": "https://localhost:8080/"
    },
    "id": "61XztA8Bj-co",
    "outputId": "d60b2537-cb8b-4b87-d2e2-9191042ce8b5"
   },
   "outputs": [
    {
     "name": "stdout",
     "output_type": "stream",
     "text": [
      "time_fit : 1.5e+01 s    \n",
      "MAE (L1)       74.9644\n",
      "RMSE (L2)      265.0523\n",
      "Mediane-AE      16.2185\n",
      "R2 (CV)          0.7763\n"
     ]
    }
   ],
   "source": [
    "import time\n",
    "start_time = time.time()\n",
    "clf_rf.fit(X_train,y_train['GHGEmissions(MetricTonsCO2e)'])\n",
    "y_pred = clf_rf.predict(X_test)\n",
    "print(\"time_fit : {:.2} s    \".format((time.time() - start_time)))\n",
    "model_accuracy(y_pred,y_test['GHGEmissions(MetricTonsCO2e)'])"
   ]
  },
  {
   "cell_type": "code",
   "execution_count": null,
   "metadata": {
    "colab": {
     "base_uri": "https://localhost:8080/",
     "height": 413
    },
    "id": "e-BGk97EkmFP",
    "outputId": "d7466595-6597-4a32-a453-3a0a3f8a6401"
   },
   "outputs": [
    {
     "data": {
      "image/png": "[encoded data removed]",
      "text/plain": [
       "<Figure size 648x432 with 1 Axes>"
      ]
     },
     "metadata": {
      "needs_background": "light"
     },
     "output_type": "display_data"
    }
   ],
   "source": [
    "plt.figure(figsize=(9, 6))\n",
    "plt.scatter(y_test['GHGEmissions(MetricTonsCO2e)'], y_pred, c ='r',lw = 1,\n",
    "            marker =\"*\", edgecolor =\"b\", s=100, alpha=.5)\n",
    "plt.plot([y_test['GHGEmissions(MetricTonsCO2e)'].min(), y_test['GHGEmissions(MetricTonsCO2e)'].max()],\n",
    "         [y_test['GHGEmissions(MetricTonsCO2e)'].min(), y_test['GHGEmissions(MetricTonsCO2e)'].max()],c='b',lw=2) \n",
    "plt.xlim([0,3000])\n",
    "plt.ylim([0,3000])\n",
    "plt.xlabel(\"test-values\",fontsize = 14)\n",
    "plt.ylabel(\"predict-values\",fontsize = 14)\n",
    "plt.xticks(fontsize = 14)\n",
    "plt.yticks(fontsize = 14)\n",
    "plt.title('GHGEmissions(MetricTonsCO2e)',fontsize = 14)\n",
    "plt.show()"
   ]
  },
  {
   "cell_type": "markdown",
   "metadata": {
    "id": "8bDF7gf0gzx6"
   },
   "source": [
    "### <font id=\"section_52\"> 5.2 Prédiction de la consommation de l'énergie"
   ]
  },
  {
   "cell_type": "markdown",
   "metadata": {
    "id": "c-BXuddvUkUl"
   },
   "source": [
    "Les résultas de prédiction par le régresseur simple dummy transformé:"
   ]
  },
  {
   "cell_type": "code",
   "execution_count": null,
   "metadata": {
    "colab": {
     "base_uri": "https://localhost:8080/"
    },
    "id": "ExK0PeNv9l1i",
    "outputId": "0f9e7a64-960d-4a6b-a769-b2489adc6903"
   },
   "outputs": [
    {
     "name": "stdout",
     "output_type": "stream",
     "text": [
      "MAE (L1)       6201375.6023\n",
      "RMSE (L2)      19625997.1003\n",
      "Mediane-AE      1907418.4489\n",
      "R2 (CV)          -0.0596\n"
     ]
    }
   ],
   "source": [
    "dummy_t.fit(X_train,y_train['SiteEnergyUse(kBtu)'])\n",
    "y_pred = dummy_t.predict(X_test)\n",
    "model_accuracy(y_pred,y_test['SiteEnergyUse(kBtu)'])"
   ]
  },
  {
   "cell_type": "markdown",
   "metadata": {
    "id": "_5nxXFY025B7"
   },
   "source": [
    "Les résultas de prédiction par le régresseur GBR:"
   ]
  },
  {
   "cell_type": "code",
   "execution_count": null,
   "metadata": {
    "colab": {
     "base_uri": "https://localhost:8080/"
    },
    "id": "0lvnIpLYWuMP",
    "outputId": "89ed40b3-67fa-48fa-d588-eeba5fbd6a57"
   },
   "outputs": [
    {
     "name": "stdout",
     "output_type": "stream",
     "text": [
      "time_fit : 1.5e+01 s.\n",
      "MAE (L1)       2165341.3591\n",
      "RMSE (L2)      10847709.8982\n",
      "Mediane-AE      409469.0972\n",
      "R2 (CV)          0.6763\n"
     ]
    }
   ],
   "source": [
    "import time\n",
    "start_time = time.time()\n",
    "clf_gbr.fit(X_train,y_train['SiteEnergyUse(kBtu)'])\n",
    "y_pred = clf_gbr.predict(X_test)\n",
    "print(\"time_fit : {:.2} s.\".format((time.time() - start_time)))\n",
    "model_accuracy(y_pred,y_test['SiteEnergyUse(kBtu)'])"
   ]
  },
  {
   "cell_type": "code",
   "execution_count": null,
   "metadata": {
    "colab": {
     "base_uri": "https://localhost:8080/",
     "height": 413
    },
    "id": "7bfljiUSb7rS",
    "outputId": "50bde9e0-8fec-44cb-a7de-933f130d4f62"
   },
   "outputs": [
    {
     "data": {
      "image/png": "[encoded data removed]",
      "text/plain": [
       "<Figure size 648x432 with 1 Axes>"
      ]
     },
     "metadata": {
      "needs_background": "light"
     },
     "output_type": "display_data"
    }
   ],
   "source": [
    "plt.figure(figsize=(9, 6))\n",
    "plt.scatter(y_test['SiteEnergyUse(kBtu)'], y_pred, c ='r',lw = 1,\n",
    "            marker =\"*\", edgecolor =\"b\", s=100, alpha=.5)\n",
    "plt.plot([y_test['SiteEnergyUse(kBtu)'].min(), y_test['SiteEnergyUse(kBtu)'].max()],\n",
    "         [y_test['SiteEnergyUse(kBtu)'].min(), y_test['SiteEnergyUse(kBtu)'].max()],c='b',lw=2) \n",
    "plt.xlim([0,1e8])\n",
    "plt.ylim([0,1e8])\n",
    "plt.xlabel(\"test-values\",fontsize = 14)\n",
    "plt.ylabel(\"predict-values\",fontsize = 14)\n",
    "plt.xticks(fontsize = 14)\n",
    "plt.yticks(fontsize = 14)\n",
    "plt.title('SiteEnergyUse(kBtu)',fontsize = 14)\n",
    "plt.show()"
   ]
  },
  {
   "cell_type": "markdown",
   "metadata": {
    "id": "4oiIF6KdU6Jk"
   },
   "source": [
    "Les résultas de prédiction par le régresseur RFR:"
   ]
  },
  {
   "cell_type": "code",
   "execution_count": null,
   "metadata": {
    "colab": {
     "base_uri": "https://localhost:8080/"
    },
    "id": "TSDh9qtje_LA",
    "outputId": "87e03ff6-d869-4fba-ba11-937425c57f0d"
   },
   "outputs": [
    {
     "name": "stdout",
     "output_type": "stream",
     "text": [
      "time_fit : 1.6e+01 s.\n",
      "MAE (L1)       2481798.9211\n",
      "RMSE (L2)      11399597.3670\n",
      "Mediane-AE      516741.8775\n",
      "R2 (CV)          0.6425\n"
     ]
    }
   ],
   "source": [
    "import time\n",
    "start_time = time.time()\n",
    "clf_rf.fit(X_train,y_train['SiteEnergyUse(kBtu)'])\n",
    "y_pred = clf_rf.predict(X_test)\n",
    "print(\"time_fit : {:.2} s.\".format((time.time() - start_time)))\n",
    "model_accuracy(y_pred,y_test['SiteEnergyUse(kBtu)'])"
   ]
  },
  {
   "cell_type": "code",
   "execution_count": null,
   "metadata": {
    "colab": {
     "base_uri": "https://localhost:8080/",
     "height": 413
    },
    "id": "yu9KYTX4fHrb",
    "outputId": "a519c882-bf27-45ed-aa01-c5cdb373f9ef"
   },
   "outputs": [
    {
     "data": {
      "image/png": "[encoded data removed]",
      "text/plain": [
       "<Figure size 648x432 with 1 Axes>"
      ]
     },
     "metadata": {
      "needs_background": "light"
     },
     "output_type": "display_data"
    }
   ],
   "source": [
    "plt.figure(figsize=(9, 6))\n",
    "plt.scatter(y_test['SiteEnergyUse(kBtu)'], y_pred, c ='r',lw = 1,\n",
    "            marker =\"*\", edgecolor =\"b\", s=100, alpha=.5)\n",
    "plt.plot([y_test['SiteEnergyUse(kBtu)'].min(), y_test['SiteEnergyUse(kBtu)'].max()],\n",
    "         [y_test['SiteEnergyUse(kBtu)'].min(), y_test['SiteEnergyUse(kBtu)'].max()],c='b',lw=2) \n",
    "plt.xlim([0,1e8])\n",
    "plt.ylim([0,1e8])\n",
    "plt.xlabel(\"test-values\",fontsize = 14)\n",
    "plt.ylabel(\"predict-values\",fontsize = 14)\n",
    "plt.xticks(fontsize = 14)\n",
    "plt.yticks(fontsize = 14)\n",
    "plt.title('SiteEnergyUse(kBtu)',fontsize = 14)\n",
    "plt.show()"
   ]
  },
  {
   "cell_type": "markdown",
   "metadata": {
    "id": "eGNEJ_OOhJ27"
   },
   "source": [
    "Les scores sur les prédictions des deux variables montrent aussi que le gradient Boosting régresseur est meilleur que Random Forest avec une RMSE et MAE la plus basse. Le temps d'entrainement du GBR est aussi moins  élevé que celui de RFR."
   ]
  },
  {
   "cell_type": "markdown",
   "metadata": {
    "id": "bD_d5GSK2aW8"
   },
   "source": [
    "## <font id=\"section_6\"> 6. Influence de l'ENERGY STAR Score "
   ]
  },
  {
   "cell_type": "markdown",
   "metadata": {
    "id": "s_S_7bVIhJ28"
   },
   "source": [
    "L*'Energy Star Score* est une note entre 1 et 100 dont le but est de désigner l'efficacité énergétique d'un bâtiment\n",
    "parmi des bâtiments similaires déjà certifiés. Une note de 50 signifie que ce bâtiment se situe dans la médiane, alors qu'une note supérieure à 75 indique qu'il s'agit d'un autre à rendement élevé. \n",
    "\n",
    "Afin de quantifier l'influence  de cette variable sur les prédictions pour les deux variables cibles, nous allons comparer les scores du modèle retenu le GBR avec et sans cette variable *Energy Star Score*."
   ]
  },
  {
   "cell_type": "code",
   "execution_count": null,
   "metadata": {
    "colab": {
     "base_uri": "https://localhost:8080/",
     "height": 297
    },
    "id": "gDTaEaVM-c44",
    "outputId": "83886849-9d4e-4bf8-9959-34fb0b71143f",
    "scrolled": true
   },
   "outputs": [
    {
     "data": {
      "image/png": "[encoded data removed]",
      "text/plain": [
       "<Figure size 1080x288 with 3 Axes>"
      ]
     },
     "metadata": {
      "needs_background": "light"
     },
     "output_type": "display_data"
    }
   ],
   "source": [
    "Xe_train = X_train.drop('ENERGYSTARScore', axis=1)\n",
    "Xe_test = X_test.drop('ENERGYSTARScore', axis=1)\n",
    "\n",
    "\n",
    "scores = cross_validate(clf_gbr, X_train, y_train['GHGEmissions(MetricTonsCO2e)'], cv=40, \n",
    "                        scoring=['r2','neg_root_mean_squared_error', 'neg_mean_absolute_error'])\n",
    "dg = pd.DataFrame(scores)\n",
    "dg[[ 'test_neg_root_mean_squared_error','test_neg_mean_absolute_error']] =-dg[[ 'test_neg_root_mean_squared_error','test_neg_mean_absolute_error']]\n",
    "d_gbr=dg[[ 'test_neg_root_mean_squared_error','test_neg_mean_absolute_error']+['test_r2']]\n",
    "d_gbr.columns = ['RMSE', 'MAE', 'R2']\n",
    "\n",
    "scores = cross_validate(clf_gbr, Xe_train, y_train['GHGEmissions(MetricTonsCO2e)'], cv=40, \n",
    "                        scoring=['r2','neg_root_mean_squared_error', 'neg_mean_absolute_error'])\n",
    "dg = pd.DataFrame(scores)\n",
    "dg[[ 'test_neg_root_mean_squared_error','test_neg_mean_absolute_error']] =-dg[[ 'test_neg_root_mean_squared_error','test_neg_mean_absolute_error']]\n",
    "d_gbr_star=dg[[ 'test_neg_root_mean_squared_error','test_neg_mean_absolute_error']+['test_r2']]\n",
    "d_gbr_star.columns = ['RMSE', 'MAE', 'R2']\n",
    "\n",
    "#plot boxplot of score predictor with and without of the fearure ENERGYSTARScore (ESscore)\n",
    "\n",
    "fig, ax = plt.subplots(1, 3,figsize=(15,4))\n",
    "ax[0].boxplot([d_gbr['RMSE'],d_gbr_star['RMSE']],patch_artist = True,\n",
    "                widths = [0.5, 0.5])\n",
    "ax[0].set_title(\" RMSE score  \")\n",
    "ax[0].set_title(\" RMSE score  \")\n",
    "ax[0].set_xticklabels(['GBR with ESscore', 'GBR without ESscore']) \n",
    "ax[1].boxplot([d_gbr['MAE'],d_gbr_star['MAE']],patch_artist = True,\n",
    "                widths = [0.5, 0.5])\n",
    "ax[1].set_title(\"MAE score\")\n",
    "ax[1].set_xticklabels(['GBR with ESscore', 'GBR without ESscore']) \n",
    "ax[2].boxplot([d_gbr['R2'],d_gbr_star['R2']],patch_artist = True,\n",
    "                 widths =[0.5, 0.5])\n",
    "ax[2].set_title(\"R2 score\")\n",
    "ax[2].set_xticklabels(['GBR with ESscore', 'GBR without ESscore'])  \n",
    "fig.tight_layout()"
   ]
  },
  {
   "cell_type": "code",
   "execution_count": null,
   "metadata": {
    "colab": {
     "base_uri": "https://localhost:8080/",
     "height": 297
    },
    "id": "rMI4gRVmvQrF",
    "outputId": "9ea5c1e6-2574-4fc6-8752-2a21a5dcd4c7"
   },
   "outputs": [
    {
     "data": {
      "image/png": "[encoded data removed]",
      "text/plain": [
       "<Figure size 1080x288 with 3 Axes>"
      ]
     },
     "metadata": {
      "needs_background": "light"
     },
     "output_type": "display_data"
    }
   ],
   "source": [
    "scores = cross_validate(clf_gbr, X_train, y_train['SiteEnergyUse(kBtu)'], cv=40, \n",
    "                        scoring=['r2','neg_root_mean_squared_error', 'neg_mean_absolute_error'])\n",
    "dg = pd.DataFrame(scores)\n",
    "dg[[ 'test_neg_root_mean_squared_error','test_neg_mean_absolute_error']] =-dg[[ 'test_neg_root_mean_squared_error','test_neg_mean_absolute_error']]\n",
    "d_gbr=dg[[ 'test_neg_root_mean_squared_error','test_neg_mean_absolute_error']+['test_r2']]\n",
    "d_gbr.columns = ['RMSE', 'MAE', 'R2']\n",
    "\n",
    "scores = cross_validate(clf_gbr, Xe_train, y_train['SiteEnergyUse(kBtu)'], cv=40, \n",
    "                        scoring=['r2','neg_root_mean_squared_error', 'neg_mean_absolute_error'])\n",
    "dg = pd.DataFrame(scores)\n",
    "dg[[ 'test_neg_root_mean_squared_error','test_neg_mean_absolute_error']] =-dg[[ 'test_neg_root_mean_squared_error','test_neg_mean_absolute_error']]\n",
    "d_gbr_star=dg[[ 'test_neg_root_mean_squared_error','test_neg_mean_absolute_error']+['test_r2']]\n",
    "d_gbr_star.columns = ['RMSE', 'MAE', 'R2']\n",
    "\n",
    "#plot boxplot of score predictor with and without of the fearure ENERGYSTARScore (ESscore)\n",
    "\n",
    "fig, ax = plt.subplots(1, 3,figsize=(15,4))\n",
    "ax[0].boxplot([d_gbr['RMSE'],d_gbr_star['RMSE']],patch_artist = True,\n",
    "                widths = [0.5, 0.5])\n",
    "ax[0].set_title(\" RMSE score  \")\n",
    "ax[0].set_title(\" RMSE score  \")\n",
    "ax[0].set_xticklabels(['GBR with ESscore', 'GBR without ESscore']) \n",
    "ax[1].boxplot([d_gbr['MAE'],d_gbr_star['MAE']],patch_artist = True,\n",
    "                widths = [0.5, 0.5])\n",
    "ax[1].set_title(\"MAE score\")\n",
    "ax[1].set_xticklabels(['GBR with ESscore', 'GBR without ESscore']) \n",
    "ax[2].boxplot([d_gbr['R2'],d_gbr_star['R2']],patch_artist = True,\n",
    "                 widths =[0.5, 0.5])\n",
    "ax[2].set_title(\"R2 score\")\n",
    "ax[2].set_xticklabels(['GBR with ESscore', 'GBR without ESscore'])  \n",
    "fig.tight_layout()"
   ]
  },
  {
   "cell_type": "markdown",
   "metadata": {
    "id": "YTppmtwZhJ2_"
   },
   "source": [
    "On remarque que la distribution du RMSE est quasiment semblable avec et sans le label *ENERGY STAR Score*. Une légère amélioration des scores RMSE et $R_2$ pour la cible \"*SiteEnergyUse(kBtu)*\". Cependant, en plus que cette variable est peu renseignée, cette amélioration n'est pas réellement significative. En prenant compte le coût de cette variable *ENERGY STAR Score*, on conclure que  son influence sur les prédictions du CO2 est négligeable."
   ]
  },
  {
   "cell_type": "code",
   "execution_count": null,
   "metadata": {},
   "outputs": [],
   "source": []
  }
 ],
 "metadata": {
  "colab": {
   "collapsed_sections": [],
   "name": "Pélec_02_notebook”.ipynb",
   "provenance": []
  },
  "kernelspec": {
   "display_name": "Python 3 (ipykernel)",
   "language": "python",
   "name": "python3"
  },
  "language_info": {
   "codemirror_mode": {
    "name": "ipython",
    "version": 3
   },
   "file_extension": ".py",
   "mimetype": "text/x-python",
   "name": "python",
   "nbconvert_exporter": "python",
   "pygments_lexer": "ipython3",
   "version": "3.8.12"
  }
 },
 "nbformat": 4,
 "nbformat_minor": 1
}
